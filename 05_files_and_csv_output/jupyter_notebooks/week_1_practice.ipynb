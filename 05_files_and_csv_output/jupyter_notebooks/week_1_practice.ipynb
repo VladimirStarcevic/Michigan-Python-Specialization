{
 "cells": [
  {
   "cell_type": "code",
   "execution_count": null,
   "id": "22f98984-61e6-45fd-9d87-66196807cb57",
   "metadata": {},
   "outputs": [],
   "source": [
    "my_name = \"Vladimir\"\n",
    "print(f\"Hello {my_name}! Welcome to Jupyter.\")"
   ]
  },
  {
   "cell_type": "code",
   "execution_count": null,
   "id": "80846a51-d016-423f-9014-170a76a98840",
   "metadata": {},
   "outputs": [],
   "source": [
    "years_learning = 1.5 # (otprilike)\n",
    "print(f\"{my_name} has been learning for {years_learning} years.\")"
   ]
  },
  {
   "cell_type": "markdown",
   "id": "ec421813-95b5-4cec-b1d2-370770abea56",
   "metadata": {},
   "source": [
    "# My First Jupyter Notebook\n",
    "\n",
    "This is a quick summary of what I've learned:\n",
    "1.  I can execute Python code in **code cells**.\n",
    "2.  Variables are shared between cells.\n",
    "3.  I can write formatted text and notes in `Markdown` cells.\n",
    "\n",
    "This is very cool!"
   ]
  },
  {
   "cell_type": "markdown",
   "id": "1a740ca3-83fd-4403-9659-8ff0323fe3d0",
   "metadata": {},
   "source": [
    "### Review: The `assert` Statement\n",
    "A quick practice on using `assert` to check conditions in the code."
   ]
  },
  {
   "cell_type": "code",
   "execution_count": 1,
   "id": "d4a2c600-51f2-483c-8ecb-8d16ba23e19f",
   "metadata": {},
   "outputs": [
    {
     "name": "stdout",
     "output_type": "stream",
     "text": [
      "Starting to process the correct list...\n",
      "Loop finished successfully. Total sum: 160\n"
     ]
    }
   ],
   "source": [
    "numbers_correct = [10, 25, 30, 45, 50]\n",
    "processed_sum = 0\n",
    "\n",
    "print(\"Starting to process the correct list...\")\n",
    "for num in numbers_correct:\n",
    "    assert type(num) is int, f\"Error: Found a non-integer value '{num}' in the list!\"\n",
    "    processed_sum += num\n",
    "print(f\"Loop finished successfully. Total sum: {processed_sum}\")"
   ]
  },
  {
   "cell_type": "code",
   "execution_count": 3,
   "id": "b2d01a0a-46b0-43df-b6c0-a1688ce8a608",
   "metadata": {},
   "outputs": [
    {
     "name": "stdout",
     "output_type": "stream",
     "text": [
      "Starting to process the mixed list...\n"
     ]
    },
    {
     "ename": "AssertionError",
     "evalue": "Error: Found a non-integer value 'oops' in the list!",
     "output_type": "error",
     "traceback": [
      "\u001b[31m---------------------------------------------------------------------------\u001b[39m",
      "\u001b[31mAssertionError\u001b[39m                            Traceback (most recent call last)",
      "\u001b[36mCell\u001b[39m\u001b[36m \u001b[39m\u001b[32mIn[3]\u001b[39m\u001b[32m, line 6\u001b[39m\n\u001b[32m      4\u001b[39m \u001b[38;5;28mprint\u001b[39m(\u001b[33m\"\u001b[39m\u001b[33mStarting to process the mixed list...\u001b[39m\u001b[33m\"\u001b[39m)\n\u001b[32m      5\u001b[39m \u001b[38;5;28;01mfor\u001b[39;00m num \u001b[38;5;129;01min\u001b[39;00m numbers_mixed:\n\u001b[32m----> \u001b[39m\u001b[32m6\u001b[39m     \u001b[38;5;28;01massert\u001b[39;00m \u001b[38;5;28mtype\u001b[39m(num) \u001b[38;5;129;01mis\u001b[39;00m \u001b[38;5;28mint\u001b[39m, \u001b[33mf\u001b[39m\u001b[33m\"\u001b[39m\u001b[33mError: Found a non-integer value \u001b[39m\u001b[33m'\u001b[39m\u001b[38;5;132;01m{\u001b[39;00mnum\u001b[38;5;132;01m}\u001b[39;00m\u001b[33m'\u001b[39m\u001b[33m in the list!\u001b[39m\u001b[33m\"\u001b[39m\n\u001b[32m      7\u001b[39m     processed_sum_mixed += num\n\u001b[32m      8\u001b[39m \u001b[38;5;28mprint\u001b[39m(\u001b[33mf\u001b[39m\u001b[33m\"\u001b[39m\u001b[33mLoop finished successfully. Total sum: \u001b[39m\u001b[38;5;132;01m{\u001b[39;00mprocessed_sum\u001b[38;5;132;01m}\u001b[39;00m\u001b[33m\"\u001b[39m)   \n",
      "\u001b[31mAssertionError\u001b[39m: Error: Found a non-integer value 'oops' in the list!"
     ]
    }
   ],
   "source": [
    "numbers_mixed = [10, 25, \"oops\", 45, 50]\n",
    "processed_sum_mixed = 0\n",
    "\n",
    "print(\"Starting to process the mixed list...\")\n",
    "for num in numbers_mixed:\n",
    "    assert type(num) is int, f\"Error: Found a non-integer value '{num}' in the list!\"\n",
    "    processed_sum_mixed += num\n",
    "print(f\"Loop finished successfully. Total sum: {processed_sum}\")   \n",
    "\n"
   ]
  },
  {
   "cell_type": "markdown",
   "id": "448de47b-9f77-4273-a77c-2f917cfbff33",
   "metadata": {},
   "source": [
    "### Alias vs. Copy Practice\n",
    "\n",
    "Here we will review the fundamental difference between creating an **alias** and creating a **copy** of a mutable object like a list.\n",
    "\n",
    "*   **Alias (`b = a`):** Creates a new name (`b`) that points to the **same memory location** as the original (`a`). A change made through one name will affect the other.\n",
    "*   **Copy (`b = a[:]`):** Creates a **brand new object** in a new memory location, with the same initial content. The two objects are independent.\n",
    "\n",
    "The following cells will demonstrate this behavior using `id()` to check the memory addresses."
   ]
  },
  {
   "cell_type": "code",
   "execution_count": 4,
   "id": "1bc68ae4-3929-497f-b55c-c92f0a3801de",
   "metadata": {},
   "outputs": [
    {
     "name": "stdout",
     "output_type": "stream",
     "text": [
      "Before function call, my_numbers is: [10, 20, 30]\n",
      "ID before call: 139842271028352\n",
      "--------------------\n",
      "-> Inside function: Appending 100...\n",
      "--------------------\n",
      "After function call, my_numbers is: [10, 20, 30, 100]\n",
      "ID after call: 139842271028352\n"
     ]
    }
   ],
   "source": [
    "def add_item_to_list(a_list):\n",
    "    print(\"-> Inside function: Appending 100...\")\n",
    "    a_list.append(100)\n",
    "# 1. Create the original list\n",
    "my_numbers = [10, 20, 30]\n",
    "print(f\"Before function call, my_numbers is: {my_numbers}\")\n",
    "print(f\"ID before call: {id(my_numbers)}\")\n",
    "print(\"-\" * 20)\n",
    "\n",
    "# 2. Call the function\n",
    "add_item_to_list(my_numbers)\n",
    "print(\"-\" * 20)\n",
    "\n",
    "# 3. Check the list AFTER the function call\n",
    "print(f\"After function call, my_numbers is: {my_numbers}\")\n",
    "print(f\"ID after call: {id(my_numbers)}\")"
   ]
  },
  {
   "cell_type": "code",
   "execution_count": 5,
   "id": "79e2d871-429b-4ce0-a957-ccde904d83e3",
   "metadata": {},
   "outputs": [
    {
     "name": "stdout",
     "output_type": "stream",
     "text": [
      "Before function call, my_safe_numbers is: [5, 15, 25]\n",
      "--------------------\n",
      "Calling function with a copy: add_item_to_list(my_safe_numbers[:])\n",
      "-> Inside function: Appending 100...\n",
      "--------------------\n",
      "After function call, my_safe_numbers is: [5, 15, 25]\n"
     ]
    }
   ],
   "source": [
    "# Exercise 2: Safe List Passing with a Copy\n",
    "def add_item_to_list(a_list):\n",
    "    print(\"-> Inside function: Appending 100...\")\n",
    "    a_list.append(100)\n",
    "\n",
    "# 1. Create the original list\n",
    "my_safe_numbers = [5, 15, 25]\n",
    "print(f\"Before function call, my_safe_numbers is: {my_safe_numbers}\")\n",
    "print(\"-\" * 20)\n",
    "\n",
    "# 2. Call the function with a COPY of the list\n",
    "print(\"Calling function with a copy: add_item_to_list(my_safe_numbers[:])\")\n",
    "add_item_to_list(my_safe_numbers[:])\n",
    "print(\"-\" * 20)\n",
    "\n",
    "# 3. Check the list AFTER the function call\n",
    "print(f\"After function call, my_safe_numbers is: {my_safe_numbers}\")"
   ]
  },
  {
   "cell_type": "code",
   "execution_count": 6,
   "id": "110a116f-fb65-452f-85e5-20096c274bd5",
   "metadata": {},
   "outputs": [
    {
     "name": "stdout",
     "output_type": "stream",
     "text": [
      "Before function call, my_string is: 'hello'\n",
      "--------------------\n",
      "-> Inside function: Modifying the string...\n",
      "-> Inside function, a_string is now: 'hello world'\n",
      "--------------------\n",
      "After function call, my_string is: 'hello'\n"
     ]
    }
   ],
   "source": [
    "# Exercise 3: The \"Trap\" with Immutable Strings\n",
    "\n",
    "def add_text_to_string(a_string):\n",
    "    \"\"\"This function TRIES to modify a string.\"\"\"\n",
    "    print(\"-> Inside function: Modifying the string...\")\n",
    "    a_string += \" world\" # This creates a NEW string, only visible inside the function\n",
    "    print(f\"-> Inside function, a_string is now: '{a_string}'\")\n",
    "\n",
    "# 1. Create the original string\n",
    "my_string = \"hello\"\n",
    "print(f\"Before function call, my_string is: '{my_string}'\")\n",
    "print(\"-\" * 20)\n",
    "\n",
    "# 2. Call the function\n",
    "add_text_to_string(my_string)\n",
    "print(\"-\" * 20)\n",
    "\n",
    "# 3. Check the string AFTER the function call\n",
    "print(f\"After function call, my_string is: '{my_string}'\")"
   ]
  },
  {
   "cell_type": "markdown",
   "id": "7f900b4b-2bc3-46d2-9fd5-58ca5565a8c2",
   "metadata": {},
   "source": [
    "### Task 1: Reading a File and Counting Characters\n",
    "This task practices opening a file, reading its entire content into a single string using `.read()`, and then using the `len()` function to get the total character count."
   ]
  },
  {
   "cell_type": "code",
   "execution_count": 2,
   "id": "2813ad05-6e68-451c-9572-2692343df7b3",
   "metadata": {
    "scrolled": true
   },
   "outputs": [
    {
     "name": "stdout",
     "output_type": "stream",
     "text": [
      "The file has 536 charcters.\n"
     ]
    }
   ],
   "source": [
    "import os\n",
    "\n",
    "data_folder = \"data\"\n",
    "file_name = \"school_prompt2.txt\"\n",
    "\n",
    "file_path = os.path.join(\"..\", data_folder, file_name)\n",
    "\n",
    "try:\n",
    "    with open(file_path, \"r\") as file_object:\n",
    "        \n",
    "        content = file_object.read()\n",
    "        num_char = len(content)\n",
    "        \n",
    "\n",
    "\n",
    "except FileNotFoundError:\n",
    "    print(f\"ERROR: File {file_name} not found!\")\n",
    "except Exception as e:\n",
    "    print(f\"An unexpected error occurred: {e}\")\n",
    "\n",
    "print(f\"The file has {num_char} charcters.\")\n",
    "\n",
    "        "
   ]
  },
  {
   "cell_type": "code",
   "execution_count": null,
   "id": "eddd9633-abb4-4c23-aa24-b7826ef0d1a9",
   "metadata": {},
   "outputs": [],
   "source": []
  }
 ],
 "metadata": {
  "kernelspec": {
   "display_name": "Python 3 (ipykernel)",
   "language": "python",
   "name": "python3"
  },
  "language_info": {
   "codemirror_mode": {
    "name": "ipython",
    "version": 3
   },
   "file_extension": ".py",
   "mimetype": "text/x-python",
   "name": "python",
   "nbconvert_exporter": "python",
   "pygments_lexer": "ipython3",
   "version": "3.11.13"
  }
 },
 "nbformat": 4,
 "nbformat_minor": 5
}
