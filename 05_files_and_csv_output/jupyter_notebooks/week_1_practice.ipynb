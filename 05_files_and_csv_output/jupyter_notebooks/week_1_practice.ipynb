{
 "cells": [
  {
   "cell_type": "code",
   "execution_count": null,
   "id": "22f98984-61e6-45fd-9d87-66196807cb57",
   "metadata": {},
   "outputs": [],
   "source": [
    "my_name = \"Vladimir\"\n",
    "print(f\"Hello {my_name}! Welcome to Jupyter.\")"
   ]
  },
  {
   "cell_type": "code",
   "execution_count": null,
   "id": "80846a51-d016-423f-9014-170a76a98840",
   "metadata": {},
   "outputs": [],
   "source": [
    "years_learning = 1.5 # (otprilike)\n",
    "print(f\"{my_name} has been learning for {years_learning} years.\")"
   ]
  },
  {
   "cell_type": "markdown",
   "id": "ec421813-95b5-4cec-b1d2-370770abea56",
   "metadata": {},
   "source": [
    "# My First Jupyter Notebook\n",
    "\n",
    "This is a quick summary of what I've learned:\n",
    "1.  I can execute Python code in **code cells**.\n",
    "2.  Variables are shared between cells.\n",
    "3.  I can write formatted text and notes in `Markdown` cells.\n",
    "\n",
    "This is very cool!"
   ]
  },
  {
   "cell_type": "code",
   "execution_count": null,
   "id": "d4a2c600-51f2-483c-8ecb-8d16ba23e19f",
   "metadata": {},
   "outputs": [],
   "source": []
  }
 ],
 "metadata": {
  "kernelspec": {
   "display_name": "Python 3 (ipykernel)",
   "language": "python",
   "name": "python3"
  },
  "language_info": {
   "codemirror_mode": {
    "name": "ipython",
    "version": 3
   },
   "file_extension": ".py",
   "mimetype": "text/x-python",
   "name": "python",
   "nbconvert_exporter": "python",
   "pygments_lexer": "ipython3",
   "version": "3.11.13"
  }
 },
 "nbformat": 4,
 "nbformat_minor": 5
}
