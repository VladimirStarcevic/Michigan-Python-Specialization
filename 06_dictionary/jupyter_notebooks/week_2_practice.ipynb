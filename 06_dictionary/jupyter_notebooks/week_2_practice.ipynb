{
 "cells": [
  {
   "cell_type": "markdown",
   "id": "79ad6201-a410-46c9-9411-8292a7456fcb",
   "metadata": {},
   "source": [
    "## Project: Character Frequency Analysis of \"A Study in Scarlet\"\n",
    "We will build a character counter, starting with a simple approach and gradually improving it to the final, \"Pythonic\" solution."
   ]
  },
  {
   "cell_type": "code",
   "execution_count": 4,
   "id": "632dd700-151b-41ae-ad86-bedc714a6ba5",
   "metadata": {},
   "outputs": [
    {
     "name": "stdout",
     "output_type": "stream",
     "text": [
      "Successfully loaded 29189 characters from the book.\n"
     ]
    }
   ],
   "source": [
    "file_path = \"../data/scarlet.txt\"\n",
    "\n",
    "try:\n",
    "    with open(file_path, 'r' ,encoding='utf-8') as f_in:\n",
    "        full_txt = f_in.read()\n",
    "    print(f\"Successfully loaded {len(full_txt)} characters from the book.\")\n",
    "    \n",
    "except FileNotFoundError:\n",
    "    print(f\"ERROR: File not found at {file_path}\")"
   ]
  },
  {
   "cell_type": "code",
   "execution_count": 5,
   "id": "caad2612-dfef-488e-9893-0b93c7584340",
   "metadata": {},
   "outputs": [
    {
     "name": "stdout",
     "output_type": "stream",
     "text": [
      "Occurrences of 't': 1858\n",
      "Occurrences of 's': 1364\n"
     ]
    }
   ],
   "source": [
    "file_path = \"../data/scarlet.txt\"\n",
    "t_count = 0\n",
    "s_count = 0\n",
    "try:\n",
    "    with open(file_path, 'r' ,encoding='utf-8') as f_in:\n",
    "        full_txt = f_in.read()\n",
    "    for char in full_txt:\n",
    "        if char == 't':\n",
    "            t_count += 1\n",
    "        elif char == 's':\n",
    "            s_count += 1\n",
    "except FileNotFoundError:\n",
    "    print(f\"ERROR: File not found at {file_path}\")\n",
    "print(f\"Occurrences of 't': {t_count}\")\n",
    "print(f\"Occurrences of 's': {s_count}\")"
   ]
  },
  {
   "cell_type": "code",
   "execution_count": 9,
   "id": "414062ad-375e-4b7f-aad5-1972f93d91c9",
   "metadata": {},
   "outputs": [
    {
     "name": "stdout",
     "output_type": "stream",
     "text": [
      "Occurrences of 't': 1858\n",
      "Occurrences of 's': 1364\n"
     ]
    }
   ],
   "source": [
    "file_path = \"../data/scarlet.txt\"\n",
    "letter_counts = {}\n",
    "try:\n",
    "    with open(file_path, 'r', encoding='utf-8') as f_in:\n",
    "        full_txt = f_in.read()\n",
    "        for char in full_txt:\n",
    "            if char not in letter_counts:\n",
    "                letter_counts[char] = 0\n",
    "            letter_counts[char] += 1\n",
    "    \n",
    "    \n",
    "except FileNotFoundError:\n",
    "    print(f\"ERROR: File not found at {file_path}\")\n",
    "print(f\"Occurrences of 't': {letter_counts.get('t', 0)}\")\n",
    "print(f\"Occurrences of 's': {letter_counts.get('s', 0)}\")"
   ]
  },
  {
   "cell_type": "code",
   "execution_count": 12,
   "id": "c01e149c-f9ca-49ec-b047-ae8ea11fef28",
   "metadata": {},
   "outputs": [
    {
     "name": "stdout",
     "output_type": "stream",
     "text": [
      "Occurrences of 't': 1858\n",
      "Occurrences of 's': 1364\n"
     ]
    }
   ],
   "source": [
    "file_path = \"../data/scarlet.txt\"\n",
    "letter_counts_elegant = {}\n",
    "try:\n",
    "    with open(file_path, 'r', encoding='utf-8') as f_in:\n",
    "      full_text = f_in.read()\n",
    "      for char in full_text:\n",
    "          letter_counts_elegant[char] = letter_counts_elegant.get(char, 0) + 1    \n",
    "    \n",
    "    \n",
    "except FileNotFoundError:\n",
    "    print(f\"ERROR: File not found at {file_path}\")\n",
    "print(f\"Occurrences of 't': {letter_counts_elegant.get('t', 0)}\")\n",
    "print(f\"Occurrences of 's': {letter_counts_elegant.get('s', 0)}\")"
   ]
  },
  {
   "cell_type": "code",
   "execution_count": 2,
   "id": "62d4a7e8-4285-4761-b47a-b6575e5284f4",
   "metadata": {},
   "outputs": [
    {
     "name": "stdout",
     "output_type": "stream",
     "text": [
      "('The', 1)\n",
      "('dog', 1)\n",
      "('chased', 1)\n",
      "('the', 3)\n",
      "('rabbit', 2)\n",
      "('into', 1)\n",
      "('forest', 1)\n",
      "('but', 1)\n",
      "('was', 1)\n",
      "('too', 1)\n",
      "('quick.', 1)\n"
     ]
    }
   ],
   "source": [
    "sentence = \"The dog chased the rabbit into the forest but the rabbit was too quick.\"\n",
    "\n",
    "def get_num_of_words(list_of_words):\n",
    "    words_repetitions = {}\n",
    "    for word in list_of_words:\n",
    "        words_repetitions[word] = words_repetitions.get(word, 0) + 1\n",
    "    return words_repetitions\n",
    "\n",
    "\n",
    "word_list = sentence.strip().split()\n",
    "word_counts = get_num_of_words(word_list)\n",
    "\n",
    "for item in word_counts.items():\n",
    "    print(item)\n",
    "\n",
    "\n"
   ]
  },
  {
   "cell_type": "code",
   "execution_count": 3,
   "id": "7060b653-7c3f-47cf-965f-d0f8102e4b62",
   "metadata": {},
   "outputs": [
    {
     "name": "stdout",
     "output_type": "stream",
     "text": [
      "('w', 1)\n",
      "('h', 1)\n",
      "('a', 2)\n",
      "('t', 1)\n",
      "(' ', 3)\n",
      "('c', 1)\n",
      "('n', 1)\n",
      "('I', 1)\n",
      "('d', 1)\n",
      "('o', 1)\n"
     ]
    }
   ],
   "source": [
    "stri = \"what can I do\"\n",
    "\n",
    "char_d = {}\n",
    "\n",
    "for ch in stri:\n",
    "    if ch not in char_d:\n",
    "        char_d[ch] = 0\n",
    "    char_d[ch] += 1\n",
    "\n",
    "for item in char_d.items():\n",
    "    print(item)"
   ]
  },
  {
   "cell_type": "code",
   "execution_count": 1,
   "id": "3e785587-3900-42b7-8986-6e23476a2c08",
   "metadata": {},
   "outputs": [
    {
     "name": "stdout",
     "output_type": "stream",
     "text": [
      "19\n"
     ]
    }
   ],
   "source": [
    "def sum_dictionary_values(any_dictionary: dict) -> int:\n",
    "    total_sum = 0\n",
    "    for value in any_dictionary.values():\n",
    "        total_sum += value\n",
    "    return total_sum\n",
    "travel = {\"North America\": 2, \"Europe\": 8, \"South America\": 3, \"Asia\": 4, \"Africa\":1, \"Antarctica\": 0, \"Australia\": 1}\n",
    "\n",
    "total = sum_dictionary_values(travel)\n",
    "\n",
    "print(total)"
   ]
  },
  {
   "cell_type": "code",
   "execution_count": 2,
   "id": "ba03f8f8-6854-4144-a6f9-7f43475d8c55",
   "metadata": {},
   "outputs": [
    {
     "name": "stdout",
     "output_type": "stream",
     "text": [
      "Total number of credits: 63\n"
     ]
    }
   ],
   "source": [
    "def sum_dictionary_values(any_dictionary: dict) -> int:\n",
    "    total = 0\n",
    "    for value in any_dictionary.values():\n",
    "        total += value\n",
    "    return total\n",
    "schedule = {\"UARTS 150\": 3, \"SPANISH 103\": 4, \"ENGLISH 125\": 4, \"SI 110\": 4, \"ENS 356\": 2, \"WOMENSTD 240\": 4, \"SI 106\": 4, \"BIO 118\": 3, \"SPANISH 231\": 4, \"PSYCH 111\": 4, \"LING 111\": 3, \"SPANISH 232\": 4, \"STATS 250\": 4, \"SI 206\": 4, \"COGSCI 200\": 4, \"AMCULT 202\": 4, \"ANTHRO 101\": 4}\n",
    "total_credits = sum_dictionary_values(schedule)\n",
    "print(f\"Total number of credits: {total_credits}\")"
   ]
  },
  {
   "cell_type": "code",
   "execution_count": null,
   "id": "60a738f4-1564-44ff-961c-cf6f62dadff5",
   "metadata": {},
   "outputs": [],
   "source": []
  }
 ],
 "metadata": {
  "kernelspec": {
   "display_name": "Python 3 (ipykernel)",
   "language": "python",
   "name": "python3"
  },
  "language_info": {
   "codemirror_mode": {
    "name": "ipython",
    "version": 3
   },
   "file_extension": ".py",
   "mimetype": "text/x-python",
   "name": "python",
   "nbconvert_exporter": "python",
   "pygments_lexer": "ipython3",
   "version": "3.11.13"
  }
 },
 "nbformat": 4,
 "nbformat_minor": 5
}
