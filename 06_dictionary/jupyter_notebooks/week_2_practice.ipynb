{
 "cells": [
  {
   "cell_type": "markdown",
   "id": "79ad6201-a410-46c9-9411-8292a7456fcb",
   "metadata": {},
   "source": [
    "## Project: Character Frequency Analysis of \"A Study in Scarlet\"\n",
    "We will build a character counter, starting with a simple approach and gradually improving it to the final, \"Pythonic\" solution."
   ]
  },
  {
   "cell_type": "code",
   "execution_count": 4,
   "id": "632dd700-151b-41ae-ad86-bedc714a6ba5",
   "metadata": {},
   "outputs": [
    {
     "name": "stdout",
     "output_type": "stream",
     "text": [
      "Successfully loaded 29189 characters from the book.\n"
     ]
    }
   ],
   "source": [
    "file_path = \"../data/scarlet.txt\"\n",
    "\n",
    "try:\n",
    "    with open(file_path, 'r' ,encoding='utf-8') as f_in:\n",
    "        full_txt = f_in.read()\n",
    "    print(f\"Successfully loaded {len(full_txt)} characters from the book.\")\n",
    "    \n",
    "except FileNotFoundError:\n",
    "    print(f\"ERROR: File not found at {file_path}\")"
   ]
  },
  {
   "cell_type": "code",
   "execution_count": 5,
   "id": "caad2612-dfef-488e-9893-0b93c7584340",
   "metadata": {},
   "outputs": [
    {
     "name": "stdout",
     "output_type": "stream",
     "text": [
      "Occurrences of 't': 1858\n",
      "Occurrences of 's': 1364\n"
     ]
    }
   ],
   "source": [
    "file_path = \"../data/scarlet.txt\"\n",
    "t_count = 0\n",
    "s_count = 0\n",
    "try:\n",
    "    with open(file_path, 'r' ,encoding='utf-8') as f_in:\n",
    "        full_txt = f_in.read()\n",
    "    for char in full_txt:\n",
    "        if char == 't':\n",
    "            t_count += 1\n",
    "        elif char == 's':\n",
    "            s_count += 1\n",
    "except FileNotFoundError:\n",
    "    print(f\"ERROR: File not found at {file_path}\")\n",
    "print(f\"Occurrences of 't': {t_count}\")\n",
    "print(f\"Occurrences of 's': {s_count}\")"
   ]
  },
  {
   "cell_type": "code",
   "execution_count": 9,
   "id": "414062ad-375e-4b7f-aad5-1972f93d91c9",
   "metadata": {},
   "outputs": [
    {
     "name": "stdout",
     "output_type": "stream",
     "text": [
      "Occurrences of 't': 1858\n",
      "Occurrences of 's': 1364\n"
     ]
    }
   ],
   "source": [
    "file_path = \"../data/scarlet.txt\"\n",
    "letter_counts = {}\n",
    "try:\n",
    "    with open(file_path, 'r', encoding='utf-8') as f_in:\n",
    "        full_txt = f_in.read()\n",
    "        for char in full_txt:\n",
    "            if char not in letter_counts:\n",
    "                letter_counts[char] = 0\n",
    "            letter_counts[char] += 1\n",
    "    \n",
    "    \n",
    "except FileNotFoundError:\n",
    "    print(f\"ERROR: File not found at {file_path}\")\n",
    "print(f\"Occurrences of 't': {letter_counts.get('t', 0)}\")\n",
    "print(f\"Occurrences of 's': {letter_counts.get('s', 0)}\")"
   ]
  },
  {
   "cell_type": "code",
   "execution_count": 12,
   "id": "c01e149c-f9ca-49ec-b047-ae8ea11fef28",
   "metadata": {},
   "outputs": [
    {
     "name": "stdout",
     "output_type": "stream",
     "text": [
      "Occurrences of 't': 1858\n",
      "Occurrences of 's': 1364\n"
     ]
    }
   ],
   "source": [
    "file_path = \"../data/scarlet.txt\"\n",
    "letter_counts_elegant = {}\n",
    "try:\n",
    "    with open(file_path, 'r', encoding='utf-8') as f_in:\n",
    "      full_text = f_in.read()\n",
    "      for char in full_text:\n",
    "          letter_counts_elegant[char] = letter_counts_elegant.get(char, 0) + 1    \n",
    "    \n",
    "    \n",
    "except FileNotFoundError:\n",
    "    print(f\"ERROR: File not found at {file_path}\")\n",
    "print(f\"Occurrences of 't': {letter_counts_elegant.get('t', 0)}\")\n",
    "print(f\"Occurrences of 's': {letter_counts_elegant.get('s', 0)}\")"
   ]
  },
  {
   "cell_type": "code",
   "execution_count": null,
   "id": "62d4a7e8-4285-4761-b47a-b6575e5284f4",
   "metadata": {},
   "outputs": [],
   "source": []
  }
 ],
 "metadata": {
  "kernelspec": {
   "display_name": "Python 3 (ipykernel)",
   "language": "python",
   "name": "python3"
  },
  "language_info": {
   "codemirror_mode": {
    "name": "ipython",
    "version": 3
   },
   "file_extension": ".py",
   "mimetype": "text/x-python",
   "name": "python",
   "nbconvert_exporter": "python",
   "pygments_lexer": "ipython3",
   "version": "3.11.13"
  }
 },
 "nbformat": 4,
 "nbformat_minor": 5
}
