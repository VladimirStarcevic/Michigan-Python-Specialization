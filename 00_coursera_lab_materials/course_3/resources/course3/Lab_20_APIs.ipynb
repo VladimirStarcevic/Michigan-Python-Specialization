{
 "cells": [
  {
   "cell_type": "code",
   "execution_count": 2,
   "metadata": {
    "tags": []
   },
   "outputs": [],
   "source": [
    "import json\n",
    "import requests"
   ]
  },
  {
   "cell_type": "markdown",
   "metadata": {},
   "source": [
    "# REST APIs"
   ]
  },
  {
   "cell_type": "markdown",
   "metadata": {},
   "source": [
    "1. What's a `REST API`?\n",
    "\n",
    "2. If you decide to use an API, how do you determine the url and the parameters you'll need?\n",
    "\n",
    "3. Dissect the following `URL` of the `Slack REST API`? In particular, what's the stuff after the `?`?  \n",
    "https://slack.com/api/im.history?token=XXX&channel=D1234567890&count=100\n",
    "\n",
    "4. Compose a URL to find words that start with `h`, end in `p`, and have two letters in between? You can look at the API documentation here: http://www.datamuse.com/api/"
   ]
  },
  {
   "cell_type": "markdown",
   "metadata": {},
   "source": [
    "# The python `requests` module"
   ]
  },
  {
   "cell_type": "markdown",
   "metadata": {},
   "source": [
    "5. What does the `requests` module do?\n",
    "\n",
    "2. Why do we use it instead of using a web browser to fetch the contents of a page?\n",
    "\n",
    "3. When using the get method, what are the two parameters?\n",
    "\n",
    "4. What's the type of the object returned by invoking `requests.get()`? What are the attributes and methods in the returned object? Describe their differences."
   ]
  },
  {
   "cell_type": "markdown",
   "metadata": {},
   "source": [
    "## Chuck Norris Jokes..."
   ]
  },
  {
   "cell_type": "markdown",
   "metadata": {},
   "source": [
    "This website: https://api.chucknorris.io/ provides all kinds of Chuck Norris jokes on the web. The jokes are openly available via its REST API: https://api.chucknorris.io/jokes/random. We can use `HTTP GET` to retrieve whatever joke we want. For example, the following code retrieves a random joke from its database."
   ]
  },
  {
   "cell_type": "code",
   "execution_count": 1,
   "metadata": {
    "tags": []
   },
   "outputs": [],
   "source": [
    "import requests"
   ]
  },
  {
   "cell_type": "code",
   "execution_count": 3,
   "metadata": {
    "scrolled": true
   },
   "outputs": [
    {
     "name": "stdout",
     "output_type": "stream",
     "text": [
      "Jokes categories available\n",
      "1. animal\n",
      "2. career\n",
      "3. celebrity\n",
      "4. dev\n",
      "5. explicit\n",
      "6. fashion\n",
      "7. food\n",
      "8. history\n",
      "9. money\n",
      "10. movie\n",
      "11. music\n",
      "12. political\n",
      "13. religion\n",
      "14. science\n",
      "15. sport\n",
      "16. travel\n"
     ]
    },
    {
     "name": "stdin",
     "output_type": "stream",
     "text": [
      "Select category:  travel\n"
     ]
    },
    {
     "name": "stdout",
     "output_type": "stream",
     "text": [
      "{\n",
      "     \"categories\": [\n",
      "          \"travel\"\n",
      "     ],\n",
      "     \"created_at\": \"2020-01-05 13:42:19.576875\",\n",
      "     \"icon_url\": \"https://api.chucknorris.io/img/avatar/chuck-norris.png\",\n",
      "     \"id\": \"9rqqcar_s5mqpujm0yu5za\",\n",
      "     \"updated_at\": \"2020-01-05 13:42:19.576875\",\n",
      "     \"url\": \"https://api.chucknorris.io/jokes/9rqqcar_s5mqpujm0yu5za\",\n",
      "     \"value\": \"For Spring Break '05, Chuck Norris drove to Madagascar, riding a chariot pulled by two electric eels.\"\n",
      "}\n",
      "For Spring Break '05, Chuck Norris drove to Madagascar, riding a chariot pulled by two electric eels.\n"
     ]
    }
   ],
   "source": [
    "import requests\n",
    "import json\n",
    "BASIC_URL = \"https://api.chucknorris.io/jokes/random\"\n",
    "categories = [\"animal\",\"career\",\"celebrity\",\"dev\",\"explicit\",\"fashion\",\"food\",\"history\",\"money\",\"movie\",\"music\",\"political\",\"religion\",\"science\",\"sport\",\"travel\"]\n",
    "\n",
    "print(\"Jokes categories available\")\n",
    "for i in range(len(categories)):\n",
    "    print(f\"{i + 1}. {categories[i]}\")\n",
    "\n",
    "category = input(\"Select category: \")\n",
    "\n",
    "if category not in categories:\n",
    "    print(\"You are selected not existing category!\")\n",
    "else:\n",
    "    query_params = {\n",
    "        \"category\": category\n",
    "    }\n",
    "    try:\n",
    "\n",
    "        response = requests.get(BASIC_URL, query_params, timeout=5)\n",
    "        response.raise_for_status()\n",
    "        norris_jokes = response.json()\n",
    "        #print(json.dumps(norris_jokes, indent=5))\n",
    "        print(norris_jokes[\"value\"])\n",
    "\n",
    "    except requests.exceptions.RequestException as e:\n",
    "        print(f\"\\nThere is error on communication with server: {e}\")\n",
    "    except json.JSONDecodeError:\n",
    "        print(\"\\nERROR: Server did not return valid JSON.\")"
   ]
  },
  {
   "cell_type": "markdown",
   "metadata": {},
   "source": [
    "9. Can we instead use `outputs = json.loads(response.text)` in the code above?\n",
    "\n",
    "10. What's the type of `outputs`?\n",
    "\n",
    "11. Get the contents (the actual text) of the joke and store it in the variable `joke`.\n",
    "\n",
    "12. The API provides two parameters (`firstName` and `lastName`) that allow us to change the name of the main character when fetching a joke. Can you fetch a random joke with your name in it?\n",
    "\n",
    "13. Have fun: You can play with the API using other available parameters!\n",
    "\n",
    "14. In the previous section, you developed the URL https://api.datamuse.com/words?sp=h??p to retrieve four-letter words that begin with h and end with p. Write code that retrieves them. Bonus challenge: write a list comprehension expression to generate a list containing just the words, without all the other information about the words that datamuse returns."
   ]
  },
  {
   "cell_type": "markdown",
   "metadata": {},
   "source": [
    "## Request data from iTunes"
   ]
  },
  {
   "cell_type": "markdown",
   "metadata": {},
   "source": [
    "The textbook worked a litle with the iTunes API.([iTunes API Documentation](https://affiliate.itunes.apple.com/resources/documentation/itunes-store-web-service-search-api/)) This time, let's get different data. \n",
    "\n",
    "15. First, take a look at the documentation. What are the available keys that we can use as parameters for an API call.\n",
    "\n",
    "2. Create a dictionary **`itunes_parameters`** with some key-value pairs so that we can fetch **songs** by **Talyor Swift**\n",
    "\n",
    "3. Assign to the variable **`itunes_base_url`** the base url corresonding to the itunes API.\n",
    "\n",
    "4. Make an API request and assign the returned object to a variable **`itunes_response`**\n",
    "\n",
    "5. Print out all the songs!"
   ]
  },
  {
   "cell_type": "code",
   "execution_count": null,
   "metadata": {},
   "outputs": [],
   "source": [
    "import json\n",
    "import requests\n",
    "\n",
    "# 16\n",
    "\n",
    "# 17\n",
    "\n",
    "# 18\n",
    "\n",
    "\n",
    "# 19\n"
   ]
  },
  {
   "cell_type": "code",
   "execution_count": null,
   "metadata": {},
   "outputs": [],
   "source": []
  }
 ],
 "metadata": {
  "kernelspec": {
   "display_name": "Python 3 (ipykernel)",
   "language": "python",
   "name": "python3"
  },
  "language_info": {
   "codemirror_mode": {
    "name": "ipython",
    "version": 3
   },
   "file_extension": ".py",
   "mimetype": "text/x-python",
   "name": "python",
   "nbconvert_exporter": "python",
   "pygments_lexer": "ipython3",
   "version": "3.11.13"
  }
 },
 "nbformat": 4,
 "nbformat_minor": 4
}
