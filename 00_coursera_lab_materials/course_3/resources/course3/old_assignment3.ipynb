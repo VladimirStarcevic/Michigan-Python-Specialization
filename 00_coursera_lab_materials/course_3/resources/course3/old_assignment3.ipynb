{
 "cells": [
  {
   "cell_type": "markdown",
   "id": "e9fb1f6f",
   "metadata": {
    "nbgrader": {
     "grade": false,
     "grade_id": "cell-1147e966375cbcbd",
     "locked": true,
     "schema_version": 3,
     "solution": false,
     "task": false
    }
   },
   "source": [
    "# Final Project for Course 3 - OMDB and TasteDive Mashup"
   ]
  },
  {
   "cell_type": "markdown",
   "id": "a9403665",
   "metadata": {
    "nbgrader": {
     "grade": false,
     "grade_id": "cell-e7072e501f48b813",
     "locked": true,
     "schema_version": 3,
     "solution": false,
     "task": false
    }
   },
   "source": [
    "This project will take you through the process of mashing up data from two different APIs to make movie recommendations. The TasteDive API lets you provide a movie (or bands, TV shows, etc.) as a query input, and returns a set of related items. The OMDB API lets you provide a movie title as a query input and get back data about the movie, including scores from various review sites (Rotten Tomatoes, IMDB, etc.).\n",
    "\n",
    "You will put those two together. You will use TasteDive to get related movies for a whole list of titles. You’ll combine the resulting lists of related movies, and sort them according to their Rotten Tomatoes scores (which will require making API calls to the OMDB API.)\n",
    "\n",
    "To avoid problems with rate limits and site accessibility, we have provided a cache file with results for all the queries you need to make to both OMDB and TasteDive. Use `requests_with_caching.get()` rather than `requests.get()`. If you’re having trouble, you may not be formatting your queries properly, or you may not be asking for data that exists in our cache. We will try to provide as much information as we can to help guide you to form queries for which data exists in the cache. \n",
    "\n",
    "**IMPORTANT: If you run any query on either API that does not find its results in the \"permanent cache\", then you haven't written the right query. This will probably cause a later step in the process to fail.**\n",
    "\n"
   ]
  },
  {
   "cell_type": "markdown",
   "id": "8a061e8d-3441-4e20-9ec1-a2b4a6e96594",
   "metadata": {
    "nbgrader": {
     "grade": false,
     "grade_id": "cell-05083b7e653b6338",
     "locked": true,
     "schema_version": 3,
     "solution": false,
     "task": false
    }
   },
   "source": [
    "## Step 1: Retrieve related movies from TasteDive\n",
    "\n",
    "Your first task will be to fetch data from TasteDive. The documentation for the API is at https://tastedive.com/read/api. In case the documentation has changed, you may want to access an [archived version](https://web.archive.org/web/20230530015616/https://tastedive.com/read/api). (Queries will still work even if the API has changed or disappeared because our cache is based on the archived version.)\n",
    "\n",
    "Define a function, called `get_movies_from_tastedive`. It should take one input parameter, a string that is the name of a movie or music artist. The function should return the 5 TasteDive results that are associated with that string; be sure to only get movies, not other kinds of media. It will be a python dictionary with just one key, ‘Similar’.\n",
    "\n",
    "Try invoking your function with the input “Black Panther”.\n",
    "\n",
    "HINT: Be sure to include **only** `q`, `type`, and `limit` as parameters in order to extract data from the cache. If any other parameters are included, then the function will not be able to recognize the data that you’re attempting to pull from the cache. Remember, you will *not* need an api key in order to complete the project, because all data will be found in the cache.\n",
    "\n",
    "The cache includes data for the following queries:\n",
    "<div class=\"alert alert-block alert-info\">\n",
    "<table style=\"width:100%\">\n",
    "  <tr>\n",
    "    <th style=\"text-align:left\">q</th>\n",
    "    <th style=\"text-align:left\">type</th>\n",
    "    <th style=\"text-align:left\">limit</th>\n",
    "  </tr>\n",
    "  <tr>\n",
    "    <td style=\"text-align:left\">Black Panther</td>\n",
    "    <td style=\"text-align:left\">< omitted ></td>\n",
    "    <td style=\"text-align:left\">< omitted ></td>\n",
    "  </tr>\n",
    "  <tr>\n",
    "    <td style=\"text-align:left\">Black Panther</td>\n",
    "    <td style=\"text-align:left\">< omitted ></td>\n",
    "    <td style=\"text-align:left\">5</td>\n",
    "  </tr>\n",
    "  <tr>\n",
    "    <td style=\"text-align:left\">Black Panther</td>\n",
    "    <td style=\"text-align:left\">movies</td>\n",
    "    <td style=\"text-align:left\">< omitted ></td>\n",
    "  </tr>\n",
    "  <tr>\n",
    "    <td style=\"text-align:left\">Black Panther</td>\n",
    "    <td style=\"text-align:left\">movies</td>\n",
    "    <td style=\"text-align:left\">5</td>\n",
    "  </tr>\n",
    "  <tr>\n",
    "    <td style=\"text-align:left\">Tony Bennett</td>\n",
    "    <td style=\"text-align:left\">< omitted ></td>\n",
    "    <td style=\"text-align:left\">5</td>\n",
    "  </tr>\n",
    "  <tr>\n",
    "    <td style=\"text-align:left\">Tony Bennett</td>\n",
    "    <td style=\"text-align:left\">movies</td>\n",
    "    <td style=\"text-align:left\">5</td>\n",
    "  </tr>\n",
    "  <tr>\n",
    "    <td style=\"text-align:left\">Captain Marvel</td>\n",
    "    <td style=\"text-align:left\">movies</td>\n",
    "    <td style=\"text-align:left\">5</td>\n",
    "  </tr>\n",
    "  <tr>\n",
    "    <td style=\"text-align:left\">Bridesmaids</td>\n",
    "    <td style=\"text-align:left\">movies</td>\n",
    "    <td style=\"text-align:left\">5</td>\n",
    "  </tr>\n",
    "  <tr>\n",
    "    <td style=\"text-align:left\">Sherlock Holmes</td>\n",
    "    <td style=\"text-align:left\">movies</td>\n",
    "    <td style=\"text-align:left\">5</td>\n",
    "  </tr>    \n",
    "</table></div>\n"
   ]
  },
  {
   "cell_type": "code",
   "execution_count": 1,
   "id": "620562c5",
   "metadata": {
    "nbgrader": {
     "grade": false,
     "grade_id": "cell-2112668920e5de5e",
     "locked": false,
     "schema_version": 3,
     "solution": true,
     "task": false
    },
    "tags": []
   },
   "outputs": [],
   "source": [
    "# some invocations that we use in the automated tests; uncomment these if you are getting errors and want better error messages\n",
    "# get_movies_from_tastedive(\"Bridesmaids\")\n",
    "# get_movies_from_tastedive(\"Black Panther\")\n",
    "\n",
    "### BEGIN SOLUTION\n",
    "import requests_with_caching\n",
    "\n",
    "\n",
    "def get_movies_from_tastedive(name):\n",
    "    params = {\"q\": name, \"type\": \"movies\", \"limit\": 5}\n",
    "    ret = requests_with_caching.get(\n",
    "        \"https://tastedive.com/api/similar\", params=params\n",
    "    ).json()\n",
    "    return ret\n",
    "\n",
    "\n",
    "### END SOLUTION"
   ]
  },
  {
   "cell_type": "code",
   "execution_count": 2,
   "id": "55356136",
   "metadata": {
    "nbgrader": {
     "grade": true,
     "grade_id": "cell-51df429ec359ce25",
     "locked": true,
     "points": 1,
     "schema_version": 3,
     "solution": false,
     "task": false
    },
    "tags": []
   },
   "outputs": [
    {
     "name": "stdout",
     "output_type": "stream",
     "text": [
      "found in permanent_cache\n",
      "found in permanent_cache\n",
      "found in permanent_cache\n",
      "found in permanent_cache\n"
     ]
    }
   ],
   "source": [
    "### BEGIN HIDDEN TESTS\n",
    "results = get_movies_from_tastedive(\"Bridesmaids\")[\"Similar\"][\"Info\"][0][\"Name\"]\n",
    "expected = \"Bridesmaids\"\n",
    "assert type(get_movies_from_tastedive(\"Bridesmaids\")) == type(\n",
    "    []\n",
    "), \"get_movies_from_tastedive('Bridesmaids') did not return a dictionary.\"\n",
    "assert (\n",
    "    results == expected\n",
    "), \"The results for get_movies_from_tastedive('Bridesmaids') are not correct.\"\n",
    "\n",
    "movies = get_movies_from_tastedive(\"Black Panther\")[\"Similar\"][\"Results\"]\n",
    "assert len(movies) <= 5, \"get_movies_from_tastedive returned more than 5 results\"\n",
    "\n",
    "results = get_movies_from_tastedive(\"Tony Bennett\")\n",
    "non_movies = filter((lambda x: x[\"Type\"] != \"movie\"), results[\"Similar\"][\"Results\"])\n",
    "assert (\n",
    "    len(list(non_movies)) == 0\n",
    "), \"get_movies_from_tastedive did not retrieve only movies\"\n",
    "### END HIDDEN TESTS"
   ]
  },
  {
   "cell_type": "markdown",
   "id": "3fa45aea",
   "metadata": {
    "nbgrader": {
     "grade": false,
     "grade_id": "cell-4faa6b7c2fb97520",
     "locked": true,
     "schema_version": 3,
     "solution": false,
     "task": false
    }
   },
   "source": [
    "## Step 2: Extract the movie titles \n",
    "Next, you will need to write a function that extracts just the list of movie titles from a dictionary returned by `get_movies_from_tastedive`. Call the function `extract_movie_titles`."
   ]
  },
  {
   "cell_type": "code",
   "execution_count": 3,
   "id": "2b324665",
   "metadata": {
    "nbgrader": {
     "grade": false,
     "grade_id": "cell-21ff62db66221b6b",
     "locked": false,
     "schema_version": 3,
     "solution": true,
     "task": false
    },
    "tags": []
   },
   "outputs": [],
   "source": [
    "# some invocations that we use in the automated tests; uncomment these if you are getting errors and want better error messages\n",
    "# extract_movie_titles(get_movies_from_tastedive(\"Tony Bennett\"))\n",
    "# extract_movie_titles(get_movies_from_tastedive(\"Black Panther\"))\n",
    "\n",
    "### BEGIN SOLUTION\n",
    "def extract_movie_titles(res_json):\n",
    "    lst_res = res_json[\"Similar\"][\"Results\"]\n",
    "    ret = [i[\"Name\"] for i in lst_res]\n",
    "    return ret\n",
    "\n",
    "\n",
    "### END SOLUTION"
   ]
  },
  {
   "cell_type": "code",
   "execution_count": 4,
   "id": "72aecb5b",
   "metadata": {
    "nbgrader": {
     "grade": true,
     "grade_id": "cell-c51b0d9cee5df839",
     "locked": true,
     "points": 1,
     "schema_version": 3,
     "solution": false,
     "task": false
    },
    "tags": []
   },
   "outputs": [
    {
     "name": "stdout",
     "output_type": "stream",
     "text": [
      "found in permanent_cache\n"
     ]
    }
   ],
   "source": [
    "### BEGIN HIDDEN TESTS\n",
    "results = [\n",
    "    \"The Startup Kids\",\n",
    "    \"Charlie Chaplin\",\n",
    "    \"Venus In Fur\",\n",
    "    \"Loving\",\n",
    "    \"The African Queen\",\n",
    "]\n",
    "assert (\n",
    "    extract_movie_titles(get_movies_from_tastedive(\"Tony Bennett\")) == results\n",
    "), 'Correct results are not returned for extract_movie_titles(get_movies_from_tastedive(\"Tony Bennett\")).'\n",
    "### END HIDDEN TESTS"
   ]
  },
  {
   "cell_type": "markdown",
   "id": "b11bde03",
   "metadata": {
    "nbgrader": {
     "grade": false,
     "grade_id": "cell-398c068b3a473bdc",
     "locked": true,
     "schema_version": 3,
     "solution": false,
     "task": false
    }
   },
   "source": [
    "## Step 3: Get related titles for a movie\n",
    "Next, you’ll write a function called `get_related_titles`. It takes a list of movie titles as input. It gets five related movies for each from TasteDive, extracts the titles for all of them, and combines them all into a single list. Don’t include the same movie twice. \n",
    "\n",
    "[Hint: make use of the two functions you already wrote; don't rewrite that code!]"
   ]
  },
  {
   "cell_type": "code",
   "execution_count": 5,
   "id": "786dfb58",
   "metadata": {
    "nbgrader": {
     "grade": false,
     "grade_id": "cell-1dd5e35c7939fade",
     "locked": false,
     "schema_version": 3,
     "solution": true,
     "task": false
    },
    "tags": []
   },
   "outputs": [],
   "source": [
    "# some invocations that we use in the automated tests; uncomment these if you are getting errors and want better error messages\n",
    "# get_related_titles([\"Black Panther\", \"Captain Marvel\"])\n",
    "# get_related_titles([])\n",
    "\n",
    "### BEGIN SOLUTION\n",
    "def get_related_titles(lst_movie_names):\n",
    "    ret = set()\n",
    "    for movie_name in lst_movie_names:\n",
    "        ret.update(extract_movie_titles(get_movies_from_tastedive(movie_name)))\n",
    "    return list(ret)\n",
    "\n",
    "\n",
    "### END SOLUTION\n",
    "\n",
    "\n",
    "### BEGIN SOLUTION\n",
    "def get_related_titles(lst_movie_names):\n",
    "    results = []\n",
    "    for movie_name in lst_movie_names:\n",
    "        for movie in extract_movie_titles(get_movies_from_tastedive(movie_name)):\n",
    "            if movie not in results:\n",
    "                results.append(movie)\n",
    "\n",
    "    return results\n",
    "\n",
    "\n",
    "### END SOLUTION"
   ]
  },
  {
   "cell_type": "code",
   "execution_count": 6,
   "id": "fb6e6b66",
   "metadata": {
    "nbgrader": {
     "grade": true,
     "grade_id": "cell-39bb86109b308d09",
     "locked": true,
     "points": 1,
     "schema_version": 3,
     "solution": false,
     "task": false
    },
    "tags": []
   },
   "outputs": [
    {
     "name": "stdout",
     "output_type": "stream",
     "text": [
      "found in permanent_cache\n",
      "found in permanent_cache\n"
     ]
    }
   ],
   "source": [
    "### BEGIN HIDDEN TESTS\n",
    "assert (\n",
    "    get_related_titles([]) == []\n",
    "), \"The correct response is not returned when no titles are included.\"\n",
    "actual_results_as_list = get_related_titles([\"Black Panther\", \"Captain Marvel\"])\n",
    "actual_results_as_set = set(actual_results_as_list)\n",
    "assert len(list(actual_results_as_set)) == len(\n",
    "    actual_results_as_list\n",
    "), \"it looks like you included some titles more than once\"\n",
    "expected_results_from_cache = set(\n",
    "    [\n",
    "        \"Captain Marvel\",\n",
    "        \"Avengers: Infinity War\",\n",
    "        \"Ant-Man And The Wasp\",\n",
    "        \"The Fate Of The Furious\",\n",
    "        \"Deadpool 2\",\n",
    "        \"Inhumans\",\n",
    "        \"Venom\",\n",
    "        \"American Assassin\",\n",
    "        \"Black Panther\",\n",
    "    ]\n",
    ")\n",
    "assert (\n",
    "    actual_results_as_set == expected_results_from_cache\n",
    "), \"The correct response is not returned when searching for Black Panther and Captain Marvel.\"\n",
    "### END HIDDEN TESTS"
   ]
  },
  {
   "cell_type": "markdown",
   "id": "406b3a89",
   "metadata": {
    "nbgrader": {
     "grade": false,
     "grade_id": "cell-c136d90e0ea5417e",
     "locked": true,
     "schema_version": 3,
     "solution": false,
     "task": false
    }
   },
   "source": [
    "## Step 4. Get OMDB data about each movie\n",
    "Your next task will be to fetch data from OMDB. The documentation for the API is at https://www.omdbapi.com/. In case the API has changed or disappeared, you may want to consult an [archived version](https://web.archive.org/web/20230701045926/https://www.omdbapi.com/). (Queries will still work even if the API has changed or disappeared because our cache is based on the archived version.)\n",
    "\n",
    "Define a function called `get_movie_data`. It takes in one parameter which is a string that represents the title of a movie you want to search for. The function should return a dictionary with information about that movie.\n",
    "\n",
    "Again, use `requests_with_caching.get()`. For the queries on movies that are already in the cache, you won’t need an api key. You will need to provide the following keys: `t` and `r`. As with the TasteDive cache, be sure to only include those two parameters in order to extract existing data from the cache."
   ]
  },
  {
   "cell_type": "code",
   "execution_count": 7,
   "id": "18750752",
   "metadata": {
    "nbgrader": {
     "grade": false,
     "grade_id": "cell-10beffb8e8c386fe",
     "locked": false,
     "schema_version": 3,
     "solution": true,
     "task": false
    },
    "tags": []
   },
   "outputs": [],
   "source": [
    "# some invocations that we use in the automated tests; uncomment these if you are getting errors and want better error messages\n",
    "# get_movie_data(\"Venom\")\n",
    "# get_movie_data(\"Baby Mama\")\n",
    "\n",
    "### BEGIN SOLUTION\n",
    "def get_movie_data(name):\n",
    "    params = {\"t\": name, \"r\": \"json\"}\n",
    "    return requests_with_caching.get(\n",
    "        \"http://www.omdbapi.com/\",  # NOTE: http instead of https\n",
    "        params=params,\n",
    "    ).json()\n",
    "\n",
    "\n",
    "### END SOLUTION"
   ]
  },
  {
   "cell_type": "code",
   "execution_count": 8,
   "id": "0744f4ee",
   "metadata": {
    "nbgrader": {
     "grade": true,
     "grade_id": "cell-51e224d2fdd01c53",
     "locked": true,
     "points": 1,
     "schema_version": 3,
     "solution": false,
     "task": false
    },
    "tags": []
   },
   "outputs": [
    {
     "name": "stdout",
     "output_type": "stream",
     "text": [
      "found in permanent_cache\n",
      "found in permanent_cache\n"
     ]
    }
   ],
   "source": [
    "### BEGIN HIDDEN TESTS\n",
    "assert type(get_movie_data(\"Venom\")) == type(\n",
    "    {}\n",
    "), \"The correct python type is not returned.\"\n",
    "assert (\n",
    "    get_movie_data(\"Baby Mama\")[\"Title\"] == \"Baby Mama\"\n",
    "), \"The results do not match the query.\"\n",
    "### END HIDDEN TESTS"
   ]
  },
  {
   "cell_type": "markdown",
   "id": "4091a78c",
   "metadata": {
    "nbgrader": {
     "grade": false,
     "grade_id": "cell-d9aef9573234fd2e",
     "locked": true,
     "schema_version": 3,
     "solution": false,
     "task": false
    }
   },
   "source": [
    "## Step 5. Extract Rotten Tomatoes Rating\n",
    "Now write a function called `get_movie_rating`. It takes an OMDB dictionary result for one movie and extracts the Rotten Tomatoes rating as an integer. For example, if given the OMDB dictionary for “Black Panther”, it would return 97. If there is no Rotten Tomatoes rating, return 0."
   ]
  },
  {
   "cell_type": "code",
   "execution_count": 9,
   "id": "fdfa4b67",
   "metadata": {
    "nbgrader": {
     "grade": false,
     "grade_id": "cell-e0532a6e333c66bd",
     "locked": false,
     "schema_version": 3,
     "solution": true,
     "task": false
    },
    "tags": []
   },
   "outputs": [],
   "source": [
    "# some invocations that we use in the automated tests; uncomment these if you are getting errors and want better error messages\n",
    "# get_movie_rating(get_movie_data(\"Deadpool 2\"))\n",
    "\n",
    "### BEGIN SOLUTION\n",
    "def get_movie_rating(movie_data):\n",
    "    lst_ratings = movie_data[\"Ratings\"]\n",
    "    for ratings in lst_ratings:\n",
    "        if ratings[\"Source\"] == \"Rotten Tomatoes\":\n",
    "            return int(ratings[\"Value\"][:-1])\n",
    "    return 0\n",
    "\n",
    "\n",
    "### END SOLUTION"
   ]
  },
  {
   "cell_type": "code",
   "execution_count": 11,
   "id": "0eefb430",
   "metadata": {
    "nbgrader": {
     "grade": true,
     "grade_id": "cell-f459e9e9b422b595",
     "locked": true,
     "points": 1,
     "schema_version": 3,
     "solution": false,
     "task": false
    },
    "tags": []
   },
   "outputs": [
    {
     "name": "stdout",
     "output_type": "stream",
     "text": [
      "found in permanent_cache\n",
      "found in permanent_cache\n",
      "found in permanent_cache\n"
     ]
    }
   ],
   "source": [
    "### BEGIN HIDDEN TESTS\n",
    "assert type(get_movie_rating(get_movie_data(\"Deadpool 2\"))) == type(\n",
    "    9\n",
    "), \"a rating is not returned.\"\n",
    "assert (\n",
    "    get_movie_rating(get_movie_data(\"Venom\")) == 30\n",
    "), \"The movie ratings is not acurate for Venom.\"\n",
    "assert (\n",
    "    get_movie_rating(get_movie_data(\"Deadpool 2\")) == 84\n",
    "), \"The movie rating for 'Deadpool 2' is not correct.\"\n",
    "### END HIDDEN TESTS"
   ]
  },
  {
   "cell_type": "markdown",
   "id": "c1839349",
   "metadata": {
    "nbgrader": {
     "grade": false,
     "grade_id": "cell-e2acdef35957104b",
     "locked": true,
     "schema_version": 3,
     "solution": false,
     "task": false
    }
   },
   "source": [
    "## Step 6. Put it all together to make a recommender system\n",
    "Now, you’ll put it all together. Define a function `get_sorted_recommendations`. It takes a list of movie titles as an input. It returns a sorted list of related movie titles as output, up to five related movies for each input movie title. The movies should be sorted in descending order by their Rotten Tomatoes rating, as returned by the `get_movie_rating` function. Break ties in reverse alphabetic order, so that ‘Yahşi Batı’ comes before ‘Eyyvah Eyvah’.\n",
    "\n",
    "(Hint 1: remember that if you sort based on a tuple, the second attribute of the tuple is used to break ties.)\n",
    "(Hint 2: we made the sort order easier for you, not harder, by specifying that ties be broken in reverse alphabetic order. The primary sort attribute, the Rotten Tomatoes rating, is also in reverse order, from highest to lowest.)"
   ]
  },
  {
   "cell_type": "code",
   "execution_count": 12,
   "id": "9ef55c77",
   "metadata": {
    "nbgrader": {
     "grade": false,
     "grade_id": "cell-4b33a3a3dcad4384",
     "locked": false,
     "schema_version": 3,
     "solution": true,
     "task": false
    },
    "tags": []
   },
   "outputs": [],
   "source": [
    "# some invocations that we use in the automated tests; uncomment these if you are getting errors and want better error messages\n",
    "# get_sorted_recommendations([\"Bridesmaids\", \"Sherlock Holmes\"])\n",
    "\n",
    "### BEGIN SOLUTION\n",
    "# import functools\n",
    "# def compare(elem1, elem2):\n",
    "#     if elem1['rating'] > elem2['rating']:\n",
    "#         return -1\n",
    "#     elif elem1['rating'] < elem2['rating']:\n",
    "#         return 1\n",
    "#     else: # ties\n",
    "#         if elem1['name'] > elem2['name']:\n",
    "#             return -1\n",
    "#         else:\n",
    "#             return 1\n",
    "def get_sorted_recommendations(lst_movie_names):\n",
    "    lst_related = get_related_titles(lst_movie_names)\n",
    "    return sorted(\n",
    "        lst_related,\n",
    "        key=lambda title: (get_movie_rating(get_movie_data(title)), title),\n",
    "        reverse=True,\n",
    "    )\n",
    "    # lst_movies = []\n",
    "    # for rel_name in lst_related:\n",
    "    #     lst_movies.append({'name': rel_name, 'rating': get_movie_rating(get_movie_data(rel_name))})\n",
    "    # # lst_movies.sort(key=lambda x: (x['rating'], x['name']), reverse=True)\n",
    "    # lst_movies.sort(key=functools.cmp_to_key(compare))\n",
    "    # return [m['name'] for m in lst_movies]\n",
    "\n",
    "\n",
    "### END SOLUTION"
   ]
  },
  {
   "cell_type": "code",
   "execution_count": 13,
   "id": "cb1e3abe",
   "metadata": {
    "nbgrader": {
     "grade": true,
     "grade_id": "cell-7dc71d7fb893a2ad",
     "locked": true,
     "points": 1,
     "schema_version": 3,
     "solution": false,
     "task": false
    },
    "tags": []
   },
   "outputs": [
    {
     "name": "stdout",
     "output_type": "stream",
     "text": [
      "found in permanent_cache\n",
      "found in permanent_cache\n",
      "found in permanent_cache\n",
      "found in permanent_cache\n",
      "found in permanent_cache\n",
      "found in permanent_cache\n",
      "found in permanent_cache\n",
      "found in permanent_cache\n",
      "found in permanent_cache\n",
      "found in permanent_cache\n",
      "found in permanent_cache\n",
      "found in permanent_cache\n"
     ]
    }
   ],
   "source": [
    "### BEGIN HIDDEN TESTS\n",
    "sample_actual_recommendations = get_sorted_recommendations(\n",
    "    [\"Bridesmaids\", \"Sherlock Holmes\"]\n",
    ")\n",
    "assert type(sample_actual_recommendations) == type(\n",
    "    []\n",
    "), \"The correct python type is not returned.\"\n",
    "sample_expected_recommendations = [\n",
    "    \"Date Night\",\n",
    "    \"The Heat\",\n",
    "    \"The Five-Year Engagement\",\n",
    "    \"Baby Mama\",\n",
    "    \"Sherlock Holmes: A Game Of Shadows\",\n",
    "    \"Bachelorette\",\n",
    "    \"Prince Of Persia: The Sands Of Time\",\n",
    "    \"Pirates Of The Caribbean: On Stranger Tides\",\n",
    "    \"Yahşi Batı\",\n",
    "    \"Eyyvah Eyvah\",\n",
    "]\n",
    "assert (\n",
    "    sample_actual_recommendations == sample_expected_recommendations\n",
    "), \"The actual value returned is not the expected value.\"\n",
    "### END HIDDEN TESTS"
   ]
  }
 ],
 "metadata": {
  "celltoolbar": "Create Assignment",
  "kernelspec": {
   "display_name": "Python 3 (ipykernel)",
   "language": "python",
   "name": "python3"
  },
  "language_info": {
   "codemirror_mode": {
    "name": "ipython",
    "version": 3
   },
   "file_extension": ".py",
   "mimetype": "text/x-python",
   "name": "python",
   "nbconvert_exporter": "python",
   "pygments_lexer": "ipython3",
   "version": "3.12.3"
  }
 },
 "nbformat": 4,
 "nbformat_minor": 5
}
