{
 "cells": [
  {
   "cell_type": "markdown",
   "id": "f545bcf6",
   "metadata": {
    "nbgrader": {
     "grade": false,
     "grade_id": "cell-4ef933a16f4edbd7",
     "locked": true,
     "schema_version": 3,
     "solution": false,
     "task": false
    }
   },
   "source": [
    "# Assignment 3 (part one)\n",
    "\n",
    "### Test cases\n",
    "\n",
    "We have written two functions below that are deliberately hard to read. DON'T TRY.\n",
    "\n",
    "Instead, follow the instructions below that describe what the functions are *supposed to do*, and write tests that check whether they actually do that.\n"
   ]
  },
  {
   "cell_type": "code",
   "execution_count": 11,
   "id": "0b643a44",
   "metadata": {
    "nbgrader": {
     "grade": false,
     "grade_id": "cell-7a97a0e0261f1abf",
     "locked": true,
     "schema_version": 3,
     "solution": false,
     "task": false
    }
   },
   "outputs": [],
   "source": [
    "def lr(n): return list(range(n))\n",
    "\n",
    "def mySum(a):\n",
    "    if type(a) is type(''.join([][:])): return a[lr(1)[0]] + mySum(a[1:])\n",
    "    elif len(a)==len(lr(1)+[]): return a[lr(1)[0]]\n",
    "    else: return None and a[lr(1)[0]] + mySum(a[1:])"
   ]
  },
  {
   "cell_type": "markdown",
   "id": "e1872efc",
   "metadata": {
    "nbgrader": {
     "grade": false,
     "grade_id": "cell-ac6fcd887eef5327",
     "locked": true,
     "schema_version": 3,
     "solution": false,
     "task": false
    }
   },
   "source": [
    "The function `mySum` is supposed to return the sum of a list of numbers (and 0 if that list is empty), but it has one or more errors in it. Use this space to write test cases to determine what errors there are. \n",
    "\n",
    "Which of the following cases fail for the mySum function?\n",
    "\n",
    "- A. an empty list\n",
    "- B. a list with one item\n",
    "- C. a list with more than one item"
   ]
  },
  {
   "cell_type": "code",
   "execution_count": 15,
   "id": "bb289593",
   "metadata": {
    "nbgrader": {
     "grade": false,
     "grade_id": "cell-bd4d837802f29d36",
     "locked": false,
     "schema_version": 3,
     "solution": true,
     "task": false
    }
   },
   "outputs": [],
   "source": [
    "ans_one = None # return a tuple containing the correct choices; e.g. ('A', 'B', 'C')\n",
    "\n",
    "### BEGIN SOLUTION\n",
    "# assert mySum([]) == 0\n",
    "# assert mySum([2]) == 2\n",
    "# assert mySum([2, 3]) == 5\n",
    "ans_one = ('A', 'C')\n",
    "### END SOLUTION"
   ]
  },
  {
   "cell_type": "code",
   "execution_count": 2,
   "id": "c734cead",
   "metadata": {
    "nbgrader": {
     "grade": true,
     "grade_id": "cell-7e44dfef4270fdf4",
     "locked": true,
     "points": 1,
     "schema_version": 3,
     "solution": false,
     "task": false
    }
   },
   "outputs": [
    {
     "name": "stdout",
     "output_type": "stream",
     "text": [
      "Correct, mySum does not return 0 for an empty list\n",
      "Correct, mySum does not return the correct sum for a list with more than 1 number\n"
     ]
    }
   ],
   "source": [
    "### BEGIN HIDDEN TESTS\n",
    "assert isinstance(ans_one, tuple), \"ans_one is not a tuple\"\n",
    "\n",
    "if 'A' in ans_one:\n",
    "    print(\"Correct, mySum does not return 0 for an empty list\")\n",
    "if 'C' in ans_one:\n",
    "    print(\"Correct, mySum does not return the correct sum for a list with more than 1 number\")\n",
    "if 'B' in ans_one:\n",
    "    print(\"Incorrect, mySum does return the correct sum for a list with 1 number\")\n",
    "\n",
    "assert len(ans_one) == 2, \"ans_one doesn't have all the correct values\"\n",
    "assert ans_one == ('A', 'C'), \"ans_one does not have the correct value\"\n",
    "### END HIDDEN TESTS"
   ]
  },
  {
   "cell_type": "markdown",
   "id": "aa3f78fc",
   "metadata": {
    "nbgrader": {
     "grade": false,
     "grade_id": "cell-0104cf6446afd4a8",
     "locked": true,
     "schema_version": 3,
     "solution": false,
     "task": false
    }
   },
   "source": [
    "Are there any other cases that we can determine, based on tests we can run with the currently implemented function, that also fail for the mySum function?\n",
    "\n",
    "- A. Yes\n",
    "- B. No"
   ]
  },
  {
   "cell_type": "code",
   "execution_count": 3,
   "id": "61ece892",
   "metadata": {
    "nbgrader": {
     "grade": false,
     "grade_id": "cell-f6368616d34226e6",
     "locked": false,
     "schema_version": 3,
     "solution": true,
     "task": false
    }
   },
   "outputs": [],
   "source": [
    "ans_two = None # return either 'A' or 'B'\n",
    "\n",
    "### BEGIN FUNCTION\n",
    "ans_two = 'B'\n",
    "### END FUNCTION"
   ]
  },
  {
   "cell_type": "code",
   "execution_count": 4,
   "id": "2818b44a",
   "metadata": {
    "nbgrader": {
     "grade": true,
     "grade_id": "cell-9c128becbc4ee64c",
     "locked": true,
     "points": 1,
     "schema_version": 3,
     "solution": false,
     "task": false
    }
   },
   "outputs": [
    {
     "name": "stdout",
     "output_type": "stream",
     "text": [
      "Correct, at the moment we can't tell if other cases cases would fail (such as combining integers and floats), but it is possible that the function could have more issues once the current issues are fixed.\n"
     ]
    }
   ],
   "source": [
    "### BEGIN HIDDEN TESTS\n",
    "assert ans_two == 'A' or ans_two == 'B', \"ans_two should be either A or B\"\n",
    "if ans_two == 'A':\n",
    "    print(\"Though it is possible that the function could have more issues, we can't tell if other cases would fail (such as combining integers and floats) due to the current issues.\")\n",
    "elif ans_two == 'B':\n",
    "    print(\"Correct, at the moment we can't tell if other cases cases would fail (such as combining integers and floats), but it is possible that the function could have more issues once the current issues are fixed.\")\n",
    "assert ans_two == 'B', \"ans_two does not have the correct value\"\n",
    "### END HIDDEN TESTS"
   ]
  },
  {
   "cell_type": "markdown",
   "id": "7eab0f80",
   "metadata": {
    "nbgrader": {
     "grade": false,
     "grade_id": "cell-9eb1313281ab1924",
     "locked": true,
     "schema_version": 3,
     "solution": false,
     "task": false
    }
   },
   "source": [
    "**The class Student is supposed to accept two arguments in its constructor:**\n",
    "- A name string\n",
    "- An optional integer representing the number of years the student has been at Michigan (default:1)\n",
    "\n",
    "**Every student has three instance variables:**\n",
    "- `self.name` (set to the name provided)\n",
    "- `self.years_UM` (set to the number of years the student has been at Michigan)\n",
    "- `self.knowledge` (initialized to 0)\n",
    "\n",
    "**There are three methods:**\n",
    "- *.study()* should increase `self.knowledge` by 1 and return `None`\n",
    "- *.getKnowledge()* should return the value of `self.knowledge`\n",
    "- *.year_at_umich()* should return the value of `self.years_UM`\n",
    "\n",
    "There are one or more errors in the class. Use this space to write test cases to determine what errors there are. You will be using this information to answer the next set of multiple choice questions.\n",
    "\n",
    "Again, try to figure out incorrect behavior by writing tests cases, rather than by reading the code and finding the errors directly. This is meant to be practice at writing test cases!"
   ]
  },
  {
   "cell_type": "code",
   "execution_count": 6,
   "id": "754efa12",
   "metadata": {
    "nbgrader": {
     "grade": false,
     "grade_id": "cell-005504c798f62d6f",
     "locked": true,
     "schema_version": 3,
     "solution": false,
     "task": false
    }
   },
   "outputs": [],
   "source": [
    "class Student():\n",
    "    def __init__(s,a,b=1): s.name,s.years_UM,s.knowledge = ''*200+a+''*100,1,len(lr(0)) + len([])\n",
    "    def study(s):\n",
    "        for _ in lr(s.knowledge): s.knowledge = s.knowledge + 1\n",
    "    def getKnowledge(s):\n",
    "        for i in lr(s.knowledge): return s.knowledge\n",
    "    def year_at_umich(s): return s.years_UM"
   ]
  },
  {
   "cell_type": "markdown",
   "id": "6654df0c",
   "metadata": {
    "nbgrader": {
     "grade": false,
     "grade_id": "cell-7e623c44c0d06435",
     "locked": true,
     "schema_version": 3,
     "solution": false,
     "task": false
    }
   },
   "source": [
    "Which of the following cases fail for the Student class?\n",
    "\n",
    "- A. the method study does not return None\n",
    "- B. the optional integer in the constructor is not optional\n",
    "- C. the attributes/instance variables are not correctly assigned in the constructor\n",
    "- D. the method study does not increase self.knowledge\n",
    "- E. the method year_at_umich does not return the value of self.years_UM"
   ]
  },
  {
   "cell_type": "code",
   "execution_count": 7,
   "id": "edd845bd",
   "metadata": {
    "nbgrader": {
     "grade": false,
     "grade_id": "cell-5d0467dff81c1726",
     "locked": false,
     "schema_version": 3,
     "solution": true,
     "task": false
    }
   },
   "outputs": [],
   "source": [
    "ans_three = None # return a tuple containing the correct choices; e.g. ('A', 'B', 'C')\n",
    "\n",
    "### BEGIN SOLUTION\n",
    "ans_three = ('C', 'D')\n",
    "### END SOLUTION"
   ]
  },
  {
   "cell_type": "code",
   "execution_count": 23,
   "id": "5c875621",
   "metadata": {
    "nbgrader": {
     "grade": true,
     "grade_id": "cell-0896d327a008b678",
     "locked": true,
     "points": 1,
     "schema_version": 3,
     "solution": false,
     "task": false
    }
   },
   "outputs": [
    {
     "name": "stdout",
     "output_type": "stream",
     "text": [
      "Correct, The constructor does not actually use the optional integer that is provided. Instead it sticks with using using the default value\n",
      "Correct, study does not increase the self.knowledge\n"
     ]
    }
   ],
   "source": [
    "### BEGIN HIDDEN TESTS\n",
    "assert isinstance(ans_three, tuple), \"ans_three is not a tuple\"\n",
    "\n",
    "# A \n",
    "s = Student(\"John\", 3)\n",
    "assert s.study() is None \n",
    "\n",
    "# B\n",
    "s = Student(\"John\")\n",
    "assert s.year_at_umich() == 1\n",
    "\n",
    "# # C\n",
    "# s = Student(\"John\", 3)\n",
    "# assert s.name == \"John\"\n",
    "# assert s.years_UM == 3\n",
    "\n",
    "# D\n",
    "# s = Student(\"John\", 3)\n",
    "# print(s.knowledge)\n",
    "# s.study()\n",
    "# print(s.knowledge)\n",
    "# assert s.knowledge == 1\n",
    "\n",
    "# E\n",
    "s = Student(\"John\", 3)\n",
    "assert s.year_at_umich() == s.years_UM\n",
    "\n",
    "if 'A' in ans_three:\n",
    "    print(\"Incorrect, the method study does return None\")\n",
    "if 'B' in ans_three:\n",
    "    print(\"Incorrect, the integer for number of years is optional\")\n",
    "if 'C' in ans_three:\n",
    "    print(\"Correct, The constructor does not actually use the optional integer that is provided. Instead it sticks with using using the default value\")\n",
    "if 'D' in ans_three:\n",
    "    print(\"Correct, study does not increase the self.knowledge\")\n",
    "if 'E' in ans_three:\n",
    "    print(\"Incorrect, years_at_umich does return the value assigned to self.years_UM.\")\n",
    "\n",
    "assert len(ans_three) == 2, \"ans_three does not have all the correct values\"\n",
    "assert ans_three == ('C', 'D'), \"ans_three does not have the correct value\"\n",
    "### END HIDDEN TESTS"
   ]
  },
  {
   "cell_type": "markdown",
   "id": "7104bcf3",
   "metadata": {
    "nbgrader": {
     "grade": false,
     "grade_id": "cell-14dddd798dd4568e",
     "locked": true,
     "schema_version": 3,
     "solution": false,
     "task": false
    }
   },
   "source": [
    "Are there any other errors that we can determine, based on tests we can run with the currently implemented class?\n",
    "\n",
    "- A. Yes\n",
    "- B. No"
   ]
  },
  {
   "cell_type": "code",
   "execution_count": 24,
   "id": "701cd4c1",
   "metadata": {
    "nbgrader": {
     "grade": false,
     "grade_id": "cell-c7798c691afc1577",
     "locked": false,
     "schema_version": 3,
     "solution": true,
     "task": false
    }
   },
   "outputs": [],
   "source": [
    "ans_four = None # return either 'A' or 'B'\n",
    "\n",
    "### BEGIN SOLUTION\n",
    "ans_four = 'A'\n",
    "### END SOLUTION"
   ]
  },
  {
   "cell_type": "code",
   "execution_count": 25,
   "id": "f85f69c0",
   "metadata": {
    "nbgrader": {
     "grade": true,
     "grade_id": "cell-333f168e637867a3",
     "locked": true,
     "points": 1,
     "schema_version": 3,
     "solution": false,
     "task": false
    }
   },
   "outputs": [
    {
     "name": "stdout",
     "output_type": "stream",
     "text": [
      "Correct! There is an issue with getKnowledge method because it returns None when self.knowledge is 0, even though it returns the correct value when self.knowledge is non-zero\n"
     ]
    }
   ],
   "source": [
    "### BEGIN HIDDEN TESTS\n",
    "assert ans_four == 'A' or ans_four == 'B', \"ans_four does not have the correct value\"\n",
    "if ans_four == 'A':\n",
    "    print(\"Correct! There is an issue with getKnowledge method because it returns None when self.knowledge is 0, even though it returns the correct value when self.knowledge is non-zero\")\n",
    "elif ans_four == 'B':\n",
    "    print(\"Incorrect, there are more cases that fail. Try finding those other cases!\")\n",
    "assert ans_four == 'A', \"ans_four does not have the correct value\"\n",
    "\n",
    "### END HIDDEN TESTS"
   ]
  }
 ],
 "metadata": {
  "celltoolbar": "Create Assignment",
  "kernelspec": {
   "display_name": "Python 3.11 (ipykernel)",
   "language": "python",
   "name": "python3"
  },
  "language_info": {
   "codemirror_mode": {
    "name": "ipython",
    "version": 3
   },
   "file_extension": ".py",
   "mimetype": "text/x-python",
   "name": "python",
   "nbconvert_exporter": "python",
   "pygments_lexer": "ipython3",
   "version": "3.11.9"
  }
 },
 "nbformat": 4,
 "nbformat_minor": 5
}
