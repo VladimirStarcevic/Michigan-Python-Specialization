{
 "cells": [
  {
   "cell_type": "markdown",
   "metadata": {},
   "source": [
    "# Understanding `assert` Statements\n",
    "1. What will happen when the following code executes? What will print? Will there be an error?"
   ]
  },
  {
   "cell_type": "code",
   "execution_count": 1,
   "metadata": {
    "tags": []
   },
   "outputs": [
    {
     "name": "stdout",
     "output_type": "stream",
     "text": [
      "x is 4 and y is 4\n",
      "x is 5 and y is 4\n"
     ]
    },
    {
     "ename": "AssertionError",
     "evalue": "",
     "output_type": "error",
     "traceback": [
      "\u001b[0;31m---------------------------------------------------------------------------\u001b[0m",
      "\u001b[0;31mAssertionError\u001b[0m                            Traceback (most recent call last)",
      "Cell \u001b[0;32mIn[1], line 7\u001b[0m\n\u001b[1;32m      5\u001b[0m x \u001b[38;5;241m+\u001b[39m\u001b[38;5;241m=\u001b[39m\u001b[38;5;241m1\u001b[39m\n\u001b[1;32m      6\u001b[0m \u001b[38;5;28mprint\u001b[39m(\u001b[38;5;124m\"\u001b[39m\u001b[38;5;124mx is \u001b[39m\u001b[38;5;132;01m{}\u001b[39;00m\u001b[38;5;124m and y is \u001b[39m\u001b[38;5;132;01m{}\u001b[39;00m\u001b[38;5;124m\"\u001b[39m\u001b[38;5;241m.\u001b[39mformat(x, y))\n\u001b[0;32m----> 7\u001b[0m \u001b[38;5;28;01massert\u001b[39;00m x\u001b[38;5;241m==\u001b[39my\n\u001b[1;32m      8\u001b[0m \u001b[38;5;28mprint\u001b[39m(\u001b[38;5;124m\"\u001b[39m\u001b[38;5;124mThat was easy!\u001b[39m\u001b[38;5;124m\"\u001b[39m)\n",
      "\u001b[0;31mAssertionError\u001b[0m: "
     ]
    }
   ],
   "source": [
    "x = 4\n",
    "y = x\n",
    "print(\"x is {} and y is {}\".format(x, y))\n",
    "assert x==y\n",
    "x +=1\n",
    "print(\"x is {} and y is {}\".format(x, y))\n",
    "assert x==y\n",
    "print(\"That was easy!\")"
   ]
  },
  {
   "cell_type": "markdown",
   "metadata": {
    "tags": []
   },
   "source": [
    "# Writing `assert` Tests to Check Your Understanding\n",
    "2. Replace the print statements in the code below with assert statements to reflect whether you think the print statements will print True or False. (Hint: if you think the print statement would print False, then use a not or switch == for !=.)"
   ]
  },
  {
   "cell_type": "code",
   "execution_count": 2,
   "metadata": {
    "tags": []
   },
   "outputs": [
    {
     "name": "stdout",
     "output_type": "stream",
     "text": [
      "False\n",
      "True\n",
      "False\n",
      "True\n",
      "True\n",
      "True\n"
     ]
    }
   ],
   "source": [
    "c = [\"apple\", \"orange\"]\n",
    "d = [\"apple\", \"orange\"]\n",
    "print(c is d)\n",
    "print(c==d)\n",
    "\n",
    "e = d[:]\n",
    "print(e is d)\n",
    "print(e==d)\n",
    "\n",
    "f = d\n",
    "print(f is d)\n",
    "print(f == d)"
   ]
  },
  {
   "cell_type": "markdown",
   "metadata": {},
   "source": [
    "# Part 2\n",
    "3. Add assert statements on the blank lines to test whether the program is doing “what you expect”."
   ]
  },
  {
   "cell_type": "code",
   "execution_count": 3,
   "metadata": {
    "tags": []
   },
   "outputs": [
    {
     "name": "stdout",
     "output_type": "stream",
     "text": [
      "All assertions passed successfully!\n"
     ]
    }
   ],
   "source": [
    "numbers_str = \"13.1, 17.4, 22, 0\"\n",
    "numbers_l = numbers_str.split(\",\")\n",
    "# add assertions about the type of numbers_l and its length\n",
    "assert type(numbers_l) is list\n",
    "assert len(numbers_l) == 4\n",
    "\n",
    "\n",
    "ct = 0\n",
    "for x in numbers_l:\n",
    "    # add assertion about the type of x\n",
    "    assert type(x) is str   \n",
    "    if (float(x) > 15):\n",
    "        ct += 1\n",
    "\n",
    "# add assertion about the value of ct\n",
    "assert ct == 2\n",
    "print(\"All assertions passed successfully!\")"
   ]
  },
  {
   "cell_type": "code",
   "execution_count": null,
   "metadata": {},
   "outputs": [],
   "source": []
  }
 ],
 "metadata": {
  "kernelspec": {
   "display_name": "Python 3.11 (ipykernel)",
   "language": "python",
   "name": "python3"
  },
  "language_info": {
   "codemirror_mode": {
    "name": "ipython",
    "version": 3
   },
   "file_extension": ".py",
   "mimetype": "text/x-python",
   "name": "python",
   "nbconvert_exporter": "python",
   "pygments_lexer": "ipython3",
   "version": "3.11.6"
  }
 },
 "nbformat": 4,
 "nbformat_minor": 4
}
