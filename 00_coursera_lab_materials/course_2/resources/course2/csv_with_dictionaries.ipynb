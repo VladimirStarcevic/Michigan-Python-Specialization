{
 "cells": [
  {
   "cell_type": "markdown",
   "id": "d79d4c85",
   "metadata": {},
   "source": [
    "### csv.reader"
   ]
  },
  {
   "cell_type": "code",
   "execution_count": 2,
   "id": "40d8cdcb",
   "metadata": {},
   "outputs": [],
   "source": [
    "import csv"
   ]
  },
  {
   "cell_type": "code",
   "execution_count": 3,
   "id": "00ff000e",
   "metadata": {},
   "outputs": [
    {
     "name": "stdout",
     "output_type": "stream",
     "text": [
      "Name: Event; Medal\n",
      "Edgar Lindenau Aabye: Tug-Of-War; Gold\n",
      "Arvo Ossian Aaltonen: Swimming; Bronze\n",
      "Arvo Ossian Aaltonen: Swimming; Bronze\n",
      "Juhamatti Tapio Aaltonen: Ice Hockey; Bronze\n",
      "Paavo Johannes Aaltonen: Gymnastics; Bronze\n",
      "Paavo Johannes Aaltonen: Gymnastics; Gold\n",
      "Paavo Johannes Aaltonen: Gymnastics; Gold\n",
      "Paavo Johannes Aaltonen: Gymnastics; Gold\n",
      "Paavo Johannes Aaltonen: Gymnastics; Bronze\n"
     ]
    }
   ],
   "source": [
    "with open(\"data/olympics.csv\", 'r') as f:\n",
    "    reader = csv.reader(f)\n",
    "    for row in reader:\n",
    "        if row[5] != \"NA\":\n",
    "            print(f\"{row[0]}: {row[4]}; {row[5]}\")    "
   ]
  },
  {
   "cell_type": "markdown",
   "id": "09de908a",
   "metadata": {},
   "source": [
    "### csv.DictReader\n",
    "- Automatically reads first row as headers.\n",
    "- Creates a dictionary for each other row, with headers as keys."
   ]
  },
  {
   "cell_type": "code",
   "execution_count": 4,
   "id": "43c8deda",
   "metadata": {},
   "outputs": [
    {
     "name": "stdout",
     "output_type": "stream",
     "text": [
      "['Name', 'Sex', 'Age', 'Team', 'Event', 'Medal']\n",
      "{'Name': 'A Dijiang', 'Sex': 'M', 'Age': '24', 'Team': 'China', 'Event': 'Basketball', 'Medal': 'NA'}\n",
      "{'Name': 'A Lamusi', 'Sex': 'M', 'Age': '23', 'Team': 'China', 'Event': 'Judo', 'Medal': 'NA'}\n"
     ]
    }
   ],
   "source": [
    "with open(\"data/olympics.csv\", 'r') as f:\n",
    "    reader = csv.DictReader(f)\n",
    "    print(reader.fieldnames)\n",
    "    # show first two rows\n",
    "    print (next(reader))\n",
    "    print (next(reader))"
   ]
  },
  {
   "cell_type": "code",
   "execution_count": 6,
   "id": "73b03f1a",
   "metadata": {},
   "outputs": [
    {
     "name": "stdout",
     "output_type": "stream",
     "text": [
      "Edgar Lindenau Aabye: Tug-Of-War; Gold\n",
      "Arvo Ossian Aaltonen: Swimming; Bronze\n",
      "Arvo Ossian Aaltonen: Swimming; Bronze\n",
      "Juhamatti Tapio Aaltonen: Ice Hockey; Bronze\n",
      "Paavo Johannes Aaltonen: Gymnastics; Bronze\n",
      "Paavo Johannes Aaltonen: Gymnastics; Gold\n",
      "Paavo Johannes Aaltonen: Gymnastics; Gold\n",
      "Paavo Johannes Aaltonen: Gymnastics; Gold\n",
      "Paavo Johannes Aaltonen: Gymnastics; Bronze\n"
     ]
    }
   ],
   "source": [
    "with open(\"data/olympics.csv\", 'r') as f:\n",
    "    reader = csv.DictReader(f)\n",
    "    for row in reader:  # iterate through remaining rows\n",
    "        if row[\"Medal\"] != \"NA\":\n",
    "            print(f\"{row['Name']}: {row['Event']}; {row['Medal']}\")"
   ]
  },
  {
   "cell_type": "markdown",
   "id": "ee7ffbc2",
   "metadata": {},
   "source": [
    "# Writing .csv Files"
   ]
  },
  {
   "cell_type": "markdown",
   "id": "110ae58e",
   "metadata": {},
   "source": [
    "### With csv.writer"
   ]
  },
  {
   "cell_type": "code",
   "execution_count": 7,
   "id": "41ffd7ec",
   "metadata": {},
   "outputs": [],
   "source": [
    "olympians = [(\"John Aalberg\", 31, \"Cross Country Skiing, 15KM\"),\n",
    "            (\"Minna Maarit Aalto\", 30, \"Sailing\"),\n",
    "            (\"Win Valdemar Aaltonen\", 54, \"Art Competitions\"),\n",
    "            (\"Wakako Abe\", 18, \"Cycling\")]\n",
    "\n",
    "outfile = open(\"reduced_olympics_2.csv\",\"w\")\n",
    "\n",
    "writer = csv.writer(outfile)\n",
    "writer.writerow(['Name', 'Age', 'Sport'])\n",
    "\n",
    "for olympian in olympians:\n",
    "    writer.writerow(olympian)\n",
    "outfile.close()"
   ]
  },
  {
   "cell_type": "markdown",
   "id": "f7a05408",
   "metadata": {},
   "source": [
    "### With csv.DictWriter\n",
    "If we have a list of dictionaries rather than a list of lists or tuples, we can use a DictWriter."
   ]
  },
  {
   "cell_type": "code",
   "execution_count": 8,
   "id": "00090b7b",
   "metadata": {},
   "outputs": [],
   "source": [
    "olympians = [{'Name': 'John Aalberg', 'Age': 31, 'Sport': 'Cross Country Skiing, 15KM'},\n",
    " {'Name': 'Minna Maarit Aalto', 'Age': 30, 'Sport': 'Sailing'},\n",
    " {'Name': 'Win Valdemar Aaltonen', 'Age': 54, 'Sport': 'Art Competitions'},\n",
    " {'Name': 'Wakako Abe', 'Age': 18, 'Sport': 'Cycling'}]\n",
    "\n",
    "outfile = open(\"reduced_olympics_2.csv\",\"w\")\n",
    "\n",
    "writer = csv.DictWriter(outfile, olympians[0].keys())\n",
    "writer.writeheader()\n",
    "for olympian in olympians:\n",
    "    writer.writerow(olympian)\n",
    "outfile.close()"
   ]
  }
 ],
 "metadata": {
  "kernelspec": {
   "display_name": "Python 3 (ipykernel)",
   "language": "python",
   "name": "python3"
  },
  "language_info": {
   "codemirror_mode": {
    "name": "ipython",
    "version": 3
   },
   "file_extension": ".py",
   "mimetype": "text/x-python",
   "name": "python",
   "nbconvert_exporter": "python",
   "pygments_lexer": "ipython3",
   "version": "3.10.12"
  }
 },
 "nbformat": 4,
 "nbformat_minor": 5
}
