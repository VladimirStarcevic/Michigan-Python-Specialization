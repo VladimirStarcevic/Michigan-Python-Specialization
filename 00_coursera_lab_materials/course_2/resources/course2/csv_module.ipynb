{
 "cells": [
  {
   "cell_type": "markdown",
   "id": "471d1e0b",
   "metadata": {},
   "source": [
    "### Reading a .csv file by hand"
   ]
  },
  {
   "cell_type": "code",
   "execution_count": 2,
   "id": "0a833b21",
   "metadata": {},
   "outputs": [
    {
     "name": "stdout",
     "output_type": "stream",
     "text": [
      "['Name', 'Sex', 'Age', 'Team', 'Event', 'Medal']\n",
      "Edgar Lindenau Aabye: Tug-Of-War; Gold\n",
      "Arvo Ossian Aaltonen: Swimming; Bronze\n",
      "Arvo Ossian Aaltonen: Swimming; Bronze\n",
      "Juhamatti Tapio Aaltonen: Ice Hockey; Bronze\n",
      "Paavo Johannes Aaltonen: Gymnastics; Bronze\n",
      "Paavo Johannes Aaltonen: Gymnastics; Gold\n",
      "Paavo Johannes Aaltonen: Gymnastics; Gold\n",
      "Paavo Johannes Aaltonen: Gymnastics; Gold\n",
      "Paavo Johannes Aaltonen: Gymnastics; Bronze\n"
     ]
    }
   ],
   "source": [
    "fileconnection = open(\"data/olympics.csv\", 'r')\n",
    "lines = fileconnection.readlines()\n",
    "\n",
    "headers = lines[0]\n",
    "field_names = headers.strip().split(',')\n",
    "print(field_names)\n",
    "\n",
    "for row in lines[1:]:\n",
    "    row_vals = row.strip().split(',')\n",
    "    if row_vals[5] != \"NA\":\n",
    "        print(f\"{row_vals[0]}: {row_vals[4]}; {row_vals[5]}\")"
   ]
  },
  {
   "cell_type": "markdown",
   "id": "d79d4c85",
   "metadata": {},
   "source": [
    "### Reading a .csv file with the csv module"
   ]
  },
  {
   "cell_type": "code",
   "execution_count": 3,
   "id": "40d8cdcb",
   "metadata": {},
   "outputs": [],
   "source": [
    "import csv"
   ]
  },
  {
   "cell_type": "code",
   "execution_count": 5,
   "id": "2ca90e18",
   "metadata": {},
   "outputs": [
    {
     "name": "stdout",
     "output_type": "stream",
     "text": [
      "['Name', 'Sex', 'Age', 'Team', 'Event', 'Medal']\n",
      "Edgar Lindenau Aabye: Tug-Of-War; Gold\n",
      "Arvo Ossian Aaltonen: Swimming; Bronze\n",
      "Arvo Ossian Aaltonen: Swimming; Bronze\n",
      "Juhamatti Tapio Aaltonen: Ice Hockey; Bronze\n",
      "Paavo Johannes Aaltonen: Gymnastics; Bronze\n",
      "Paavo Johannes Aaltonen: Gymnastics; Gold\n",
      "Paavo Johannes Aaltonen: Gymnastics; Gold\n",
      "Paavo Johannes Aaltonen: Gymnastics; Gold\n",
      "Paavo Johannes Aaltonen: Gymnastics; Bronze\n"
     ]
    }
   ],
   "source": [
    "fileconnection = open(\"data/olympics.csv\", 'r')\n",
    "reader = csv.reader(fileconnection)\n",
    "rows = list(reader)\n",
    "headers = rows[0]\n",
    "# headers is already a list; csv.reader handled parsing of comma separated values\n",
    "print(headers)\n",
    "\n",
    "for row_vals in rows[1:]:\n",
    "    # each row is already a list, not a string\n",
    "    if row_vals[5] != \"NA\":\n",
    "        print(f\"{row_vals[0]}: {row_vals[4]}; {row_vals[5]}\")\n",
    "        "
   ]
  },
  {
   "cell_type": "markdown",
   "id": "d9e2bfc1",
   "metadata": {},
   "source": [
    "### More elegant version"
   ]
  },
  {
   "cell_type": "code",
   "execution_count": null,
   "id": "43c8deda",
   "metadata": {},
   "outputs": [],
   "source": [
    "with open(\"olympics.csv\", 'r') as f:\n",
    "    reader = csv.reader(f)\n",
    "#     headers = next(reader)  # use next to get first row\n",
    "#     print(headers)\n",
    "    for row in reader:  # iterate through remaining rows\n",
    "        if row[5] != \"NA\":\n",
    "            print(f\"{row[0]}: {row[4]}; {row[5]}\")    \n",
    "    # close is handled automatically when we use the with block\n"
   ]
  },
  {
   "cell_type": "markdown",
   "id": "ee7ffbc2",
   "metadata": {},
   "source": [
    "# Writing .csv Files"
   ]
  },
  {
   "cell_type": "markdown",
   "id": "e105d1ff",
   "metadata": {},
   "source": [
    "### By Hand"
   ]
  },
  {
   "cell_type": "code",
   "execution_count": null,
   "id": "389b0976",
   "metadata": {},
   "outputs": [],
   "source": [
    "olympians = [(\"John Aalberg\", 31, \"Cross Country Skiing, 15KM\"),\n",
    "            (\"Minna Maarit Aalto\", 30, \"Sailing\"),\n",
    "            (\"Win Valdemar Aaltonen\", 54, \"Art Competitions\"),\n",
    "            (\"Wakako Abe\", 18, \"Cycling\")]\n",
    "\n",
    "outfile = open(\"reduced_olympics.csv\",\"w\")\n",
    "\n",
    "outfile.write('Name,Age,Sport')\n",
    "outfile.write('\\n')\n",
    "\n",
    "for olympian in olympians:\n",
    "    row_string = f'{olympian[0]}, {olympian[1]}, {olympian[2]}'\n",
    "    outfile.write(row_string)\n",
    "    outfile.write('\\n')\n",
    "outfile.close()"
   ]
  },
  {
   "cell_type": "markdown",
   "id": "110ae58e",
   "metadata": {},
   "source": [
    "### With csv module"
   ]
  },
  {
   "cell_type": "code",
   "execution_count": 6,
   "id": "41ffd7ec",
   "metadata": {},
   "outputs": [],
   "source": [
    "olympians = [(\"John Aalberg\", 31, \"Cross Country Skiing, 15KM\"),\n",
    "            (\"Minna Maarit Aalto\", 30, \"Sailing\"),\n",
    "            (\"Win Valdemar Aaltonen\", 54, \"Art Competitions\"),\n",
    "            (\"Wakako Abe\", 18, \"Cycling\")]\n",
    "\n",
    "outfile = open(\"reduced_olympics_2.csv\",\"w\")\n",
    "\n",
    "writer = csv.writer(outfile)\n",
    "# .writerow expects a list, not a comma-separated string; and no need to write '\\n'\n",
    "writer.writerow(['Name', 'Age', 'Sport'])\n",
    "\n",
    "for olympian in olympians:\n",
    "    # especially easy to write a row if we already have it as a list of values\n",
    "    writer.writerow(olympian)\n",
    "outfile.close()"
   ]
  },
  {
   "cell_type": "markdown",
   "id": "f9d7554b",
   "metadata": {},
   "source": [
    "### Complication: commas inside field values\n",
    "Notice that Cross Country Skiiing, 15KM has a comma in the text.\n",
    "\n",
    "The file reduced_olympics.csv get the following.\n",
    "\n",
    "```\n",
    "Name,Age,Sport\n",
    "John Aalberg, 31, Cross Country Skiing, 15KM\n",
    "Minna Maarit Aalto, 30, Sailing\n",
    "Win Valdemar Aaltonen, 54, Art Competitions\n",
    "Wakako Abe, 18, Cycling\n",
    "```\n",
    "\n",
    "This can't be parsed well, either by hand or by a csv reader object, because the meaning of a comma is ambiguous, sometimes separating fields and sometimes part of a field.\n",
    "\n",
    "The csv module handles it better, writing to reduced_olumpics_2.csv:\n",
    "```\n",
    "Name,Age,Sport\n",
    "John Aalberg,31,\"Cross Country Skiing, 15KM\"\n",
    "Minna Maarit Aalto,30,Sailing\n",
    "Win Valdemar Aaltonen,54,Art Competitions\n",
    "Wakako Abe,18,Cycling\n",
    "```\n",
    "\n",
    "The latter can be read and parsed by a csv.reader() object."
   ]
  },
  {
   "cell_type": "code",
   "execution_count": null,
   "id": "2c953e8a",
   "metadata": {},
   "outputs": [],
   "source": [
    "# notice that it thinks there are four fields for the second row\n",
    "with open(\"reduced_olympics.csv\", 'r') as f:\n",
    "    reader = csv.reader(f)\n",
    "    for row in reader:\n",
    "        print(row)"
   ]
  },
  {
   "cell_type": "code",
   "execution_count": null,
   "id": "6fbf96e7",
   "metadata": {},
   "outputs": [],
   "source": [
    "# correctly parses the second row\n",
    "with open(\"reduced_olympics_2.csv\", 'r') as f:\n",
    "    reader = csv.reader(f)\n",
    "    for row in reader:\n",
    "        print(row)"
   ]
  }
 ],
 "metadata": {
  "kernelspec": {
   "display_name": "Python 3 (ipykernel)",
   "language": "python",
   "name": "python3"
  },
  "language_info": {
   "codemirror_mode": {
    "name": "ipython",
    "version": 3
   },
   "file_extension": ".py",
   "mimetype": "text/x-python",
   "name": "python",
   "nbconvert_exporter": "python",
   "pygments_lexer": "ipython3",
   "version": "3.10.12"
  }
 },
 "nbformat": 4,
 "nbformat_minor": 5
}
