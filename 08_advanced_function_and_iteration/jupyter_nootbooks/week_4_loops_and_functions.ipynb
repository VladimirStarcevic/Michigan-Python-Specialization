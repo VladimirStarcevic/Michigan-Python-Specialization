{
 "cells": [
  {
   "cell_type": "markdown",
   "id": "1e3ccfab-6d13-49b2-9049-9116583f2683",
   "metadata": {},
   "source": [
    "## Module 14: Advanced Iteration - The `while` Loop\n",
    "\n",
    "Practicing the use of `while` loops for controlled iteration, where the number of repetitions is not known in advance or is managed by a manual counter."
   ]
  },
  {
   "cell_type": "code",
   "execution_count": null,
   "id": "fc7ba58f-8631-4099-b68f-1901b0e6b6ef",
   "metadata": {},
   "outputs": [],
   "source": []
  }
 ],
 "metadata": {
  "kernelspec": {
   "display_name": "Python 3 (ipykernel)",
   "language": "python",
   "name": "python3"
  },
  "language_info": {
   "codemirror_mode": {
    "name": "ipython",
    "version": 3
   },
   "file_extension": ".py",
   "mimetype": "text/x-python",
   "name": "python",
   "nbconvert_exporter": "python",
   "pygments_lexer": "ipython3",
   "version": "3.11.13"
  }
 },
 "nbformat": 4,
 "nbformat_minor": 5
}
