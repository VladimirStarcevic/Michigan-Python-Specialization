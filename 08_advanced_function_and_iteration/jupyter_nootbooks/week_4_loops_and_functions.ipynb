{
 "cells": [
  {
   "cell_type": "markdown",
   "id": "1e3ccfab-6d13-49b2-9049-9116583f2683",
   "metadata": {},
   "source": [
    "## Module 14: Advanced Iteration - The `while` Loop\n",
    "\n",
    "Practicing the use of `while` loops for controlled iteration, where the number of repetitions is not known in advance or is managed by a manual counter."
   ]
  },
  {
   "cell_type": "code",
   "execution_count": 1,
   "id": "fc7ba58f-8631-4099-b68f-1901b0e6b6ef",
   "metadata": {},
   "outputs": [
    {
     "name": "stdout",
     "output_type": "stream",
     "text": [
      "[0, 2, 4, 6, 8, 10, 12, 14]\n"
     ]
    }
   ],
   "source": [
    "# Write a while loop that is initialized at 0 and stops at 15. If the counter is an even number,\n",
    "# append the counter to a list called eve_nums.\n",
    "\n",
    "from typing import List\n",
    "\n",
    "def get_even_list() -> List[int]:\n",
    "    even_list = []\n",
    "    counter = 0\n",
    "    while counter <= 15:\n",
    "        if counter % 2 == 0:\n",
    "            even_list.append(counter)\n",
    "\n",
    "        counter += 1\n",
    "    return even_list\n",
    "\n",
    "even_numbs = get_even_list()\n",
    "print(even_numbs)"
   ]
  },
  {
   "cell_type": "code",
   "execution_count": null,
   "id": "cb1dc1a0-4adf-416c-bb19-2d31c0918a6e",
   "metadata": {},
   "outputs": [],
   "source": []
  }
 ],
 "metadata": {
  "kernelspec": {
   "display_name": "Python 3 (ipykernel)",
   "language": "python",
   "name": "python3"
  },
  "language_info": {
   "codemirror_mode": {
    "name": "ipython",
    "version": 3
   },
   "file_extension": ".py",
   "mimetype": "text/x-python",
   "name": "python",
   "nbconvert_exporter": "python",
   "pygments_lexer": "ipython3",
   "version": "3.11.13"
  }
 },
 "nbformat": 4,
 "nbformat_minor": 5
}
