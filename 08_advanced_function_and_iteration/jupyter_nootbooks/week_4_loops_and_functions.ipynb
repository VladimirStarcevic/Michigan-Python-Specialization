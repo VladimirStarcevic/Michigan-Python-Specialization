{
 "cells": [
  {
   "cell_type": "markdown",
   "id": "1e3ccfab-6d13-49b2-9049-9116583f2683",
   "metadata": {},
   "source": [
    "## Module 14: Advanced Iteration - The `while` Loop\n",
    "\n",
    "Practicing the use of `while` loops for controlled iteration, where the number of repetitions is not known in advance or is managed by a manual counter."
   ]
  },
  {
   "cell_type": "code",
   "execution_count": 1,
   "id": "fc7ba58f-8631-4099-b68f-1901b0e6b6ef",
   "metadata": {},
   "outputs": [
    {
     "name": "stdout",
     "output_type": "stream",
     "text": [
      "[0, 2, 4, 6, 8, 10, 12, 14]\n"
     ]
    }
   ],
   "source": [
    "# Write a while loop that is initialized at 0 and stops at 15. If the counter is an even number,\n",
    "# append the counter to a list called eve_nums.\n",
    "\n",
    "from typing import List\n",
    "\n",
    "def get_even_list() -> List[int]:\n",
    "    even_list = []\n",
    "    counter = 0\n",
    "    while counter <= 15:\n",
    "        if counter % 2 == 0:\n",
    "            even_list.append(counter)\n",
    "\n",
    "        counter += 1\n",
    "    return even_list\n",
    "\n",
    "even_numbs = get_even_list()\n",
    "print(even_numbs)"
   ]
  },
  {
   "cell_type": "code",
   "execution_count": 2,
   "id": "cb1dc1a0-4adf-416c-bb19-2d31c0918a6e",
   "metadata": {},
   "outputs": [
    {
     "name": "stdout",
     "output_type": "stream",
     "text": [
      "Sum of all elements: 42\n"
     ]
    }
   ],
   "source": [
    "# Below, we’ve provided a for loop that sums all the elements of list1.\n",
    "# Write code that accomplishes the same task, but instead uses a while loop.\n",
    "# Assign the accumulator variable to the name accum.\n",
    "from typing import List\n",
    "\n",
    "def get_total(list_in: List[int | float]) -> int | float:\n",
    "    tot = 0\n",
    "    idx = 0\n",
    "    while idx < len(list_in):\n",
    "        current_num = list_in[idx]\n",
    "        tot += current_num\n",
    "        idx += 1\n",
    "\n",
    "    return tot\n",
    "\n",
    "\n",
    "list1 = [8, 3, 4, 5, 6, 7, 9]\n",
    "\n",
    "accum = get_total(list1)\n",
    "print(f\"Sum of all elements: {accum}\")"
   ]
  },
  {
   "cell_type": "code",
   "execution_count": null,
   "id": "5ad6c26e-6f01-4371-bf5f-45f8d7988913",
   "metadata": {},
   "outputs": [],
   "source": [
    "import turtle\n",
    "import random\n",
    "def is_in_screen(w, t):\n",
    "    left_bound = -w.window_width() / 2\n",
    "    right_bound = w.window_width() / 2\n",
    "    top_bound = w.window_height() / 2\n",
    "    bottom_bound = -w.window_height() / 2\n",
    "\n",
    "    turtle_x = t.xcor()\n",
    "    turtle_y = t.ycor()\n",
    "\n",
    "    stillIn = True\n",
    "    if turtle_x > right_bound or turtle_x < left_bound:\n",
    "        stillIn = False\n",
    "\n",
    "    if turtle_y > top_bound or turtle_y < bottom_bound:\n",
    "        stillIn = False\n",
    "\n",
    "    return stillIn\n",
    "\n",
    "\n",
    "wn = turtle.Screen()\n",
    "wn.bgcolor(\"black\")\n",
    "hillary = turtle.Turtle()\n",
    "hillary.color(\"pink\")\n",
    "hillary.shape(\"turtle\")\n",
    "\n",
    "while is_in_screen(wn, hillary):\n",
    "    random_num = random.randint(0, 1)\n",
    "\n",
    "    if random_num == 0:\n",
    "        hillary.left(90)\n",
    "    else:\n",
    "        hillary.right(90)\n",
    "\n",
    "    hillary.forward(25)\n",
    "wn.exitonclick()"
   ]
  },
  {
   "cell_type": "code",
   "execution_count": 1,
   "id": "b316dc53-f02b-4006-b6d1-de84228767b1",
   "metadata": {},
   "outputs": [
    {
     "name": "stdout",
     "output_type": "stream",
     "text": [
      "HelloHelloHelloHelloHelloHelloHelloHelloHelloHello\n"
     ]
    }
   ],
   "source": [
    "def multiply(str_in: str, mult_int = 10) -> str:\n",
    "    return  str_in * mult_int\n",
    "\n",
    "str1 = \"Hello\"\n",
    "output = multiply(str1)\n",
    "print(output)"
   ]
  },
  {
   "cell_type": "code",
   "execution_count": 1,
   "id": "3972cd3e-865e-49c5-beb9-90927fc904e7",
   "metadata": {},
   "outputs": [
    {
     "name": "stdout",
     "output_type": "stream",
     "text": [
      "[9, 7, 6, 5, 5, 3, 2, 1, -2]\n"
     ]
    }
   ],
   "source": [
    "# Sort the list, lst from largest to smallest.\n",
    "# Save this new list to the variable lst_sorted\n",
    "\n",
    "from typing import List\n",
    "\n",
    "def sort_inverse_list(list_in: List[int]) -> List[int]:\n",
    "    list_out = sorted(list_in, reverse = True)\n",
    "    return list_out\n",
    "\n",
    "lst = [3, 5, 1, 6, 7, 2, 9, -2, 5]\n",
    "lst_sorted = sort_inverse_list(lst)\n",
    "print(lst_sorted)"
   ]
  },
  {
   "cell_type": "code",
   "execution_count": 3,
   "id": "43072653-9778-4cce-9b24-29d46d5887a8",
   "metadata": {},
   "outputs": [
    {
     "name": "stdout",
     "output_type": "stream",
     "text": [
      "['dance', 'zebra', 'hi', 'how are you', 'apple', 'bye']\n"
     ]
    }
   ],
   "source": [
    "# You will be sorting the following list by each element’s second letter, a to z. \n",
    "# Create a function to use when sorting, called second_let. \n",
    "# It will take a string as input and return the second letter of that string. \n",
    "# Then sort the list, create a variable called sorted_by_second_let and assign the sorted list to it. Do not use lambda.\n",
    "\n",
    "def second_let(one_string: str) -> str:\n",
    "    return one_string[1]\n",
    "ex_lst = ['hi', 'how are you', 'bye', 'apple', 'zebra', 'dance']\n",
    "\n",
    "sorted_by_second_let = sorted(ex_lst, key=second_let)\n",
    "\n",
    "print(sorted_by_second_let)"
   ]
  },
  {
   "cell_type": "code",
   "execution_count": 5,
   "id": "4311ac74-1e76-44e0-8d2d-0385a4901d7f",
   "metadata": {},
   "outputs": [
    {
     "name": "stdout",
     "output_type": "stream",
     "text": [
      "['19', '14378', '8907', '16', '1005', '44', '33', '32', '871', '1450']\n"
     ]
    }
   ],
   "source": [
    "# Below, we have provided a list of strings called nums.\n",
    "# Write a function called last_char that takes a string as input, and returns only its last character.\n",
    "# Use this function to sort the list nums by the last digit of each number,\n",
    "# from highest to lowest, and save this as a new list called nums_sorted.\n",
    "\n",
    "nums = ['1450', '33', '871', '19', '14378', '32', '1005', '44', '8907', '16']\n",
    "\n",
    "def last_char(str_in: str) -> str:\n",
    "    return str_in[-1]\n",
    "\n",
    "nums_sorted = sorted(nums, key=last_char, reverse=True)\n",
    "print(nums_sorted)"
   ]
  },
  {
   "cell_type": "code",
   "execution_count": null,
   "id": "974ba49e-3eef-4bb7-9fc1-b0644192bcca",
   "metadata": {},
   "outputs": [],
   "source": [
    "#  Once again, sort the list nums based on the last digit of each number from highest to lowest. \n",
    "#  However, now you should do so by writing a lambda function. \n",
    "#  Save the new list as nums_sorted_lambda.\n",
    "\n"
   ]
  }
 ],
 "metadata": {
  "kernelspec": {
   "display_name": "Python 3 (ipykernel)",
   "language": "python",
   "name": "python3"
  },
  "language_info": {
   "codemirror_mode": {
    "name": "ipython",
    "version": 3
   },
   "file_extension": ".py",
   "mimetype": "text/x-python",
   "name": "python",
   "nbconvert_exporter": "python",
   "pygments_lexer": "ipython3",
   "version": "3.11.13"
  }
 },
 "nbformat": 4,
 "nbformat_minor": 5
}
