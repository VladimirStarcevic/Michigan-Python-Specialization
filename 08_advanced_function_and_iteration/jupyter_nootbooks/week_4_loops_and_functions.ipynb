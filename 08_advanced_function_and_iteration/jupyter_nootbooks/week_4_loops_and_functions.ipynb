{
 "cells": [
  {
   "cell_type": "markdown",
   "id": "1e3ccfab-6d13-49b2-9049-9116583f2683",
   "metadata": {},
   "source": [
    "## Module 14: Advanced Iteration - The `while` Loop\n",
    "\n",
    "Practicing the use of `while` loops for controlled iteration, where the number of repetitions is not known in advance or is managed by a manual counter."
   ]
  },
  {
   "cell_type": "code",
   "execution_count": 1,
   "id": "fc7ba58f-8631-4099-b68f-1901b0e6b6ef",
   "metadata": {},
   "outputs": [
    {
     "name": "stdout",
     "output_type": "stream",
     "text": [
      "[0, 2, 4, 6, 8, 10, 12, 14]\n"
     ]
    }
   ],
   "source": [
    "# Write a while loop that is initialized at 0 and stops at 15. If the counter is an even number,\n",
    "# append the counter to a list called eve_nums.\n",
    "\n",
    "from typing import List\n",
    "\n",
    "def get_even_list() -> List[int]:\n",
    "    even_list = []\n",
    "    counter = 0\n",
    "    while counter <= 15:\n",
    "        if counter % 2 == 0:\n",
    "            even_list.append(counter)\n",
    "\n",
    "        counter += 1\n",
    "    return even_list\n",
    "\n",
    "even_numbs = get_even_list()\n",
    "print(even_numbs)"
   ]
  },
  {
   "cell_type": "code",
   "execution_count": 2,
   "id": "cb1dc1a0-4adf-416c-bb19-2d31c0918a6e",
   "metadata": {},
   "outputs": [
    {
     "name": "stdout",
     "output_type": "stream",
     "text": [
      "Sum of all elements: 42\n"
     ]
    }
   ],
   "source": [
    "# Below, we’ve provided a for loop that sums all the elements of list1.\n",
    "# Write code that accomplishes the same task, but instead uses a while loop.\n",
    "# Assign the accumulator variable to the name accum.\n",
    "from typing import List\n",
    "\n",
    "def get_total(list_in: List[int | float]) -> int | float:\n",
    "    tot = 0\n",
    "    idx = 0\n",
    "    while idx < len(list_in):\n",
    "        current_num = list_in[idx]\n",
    "        tot += current_num\n",
    "        idx += 1\n",
    "\n",
    "    return tot\n",
    "\n",
    "\n",
    "list1 = [8, 3, 4, 5, 6, 7, 9]\n",
    "\n",
    "accum = get_total(list1)\n",
    "print(f\"Sum of all elements: {accum}\")"
   ]
  },
  {
   "cell_type": "code",
   "execution_count": null,
   "id": "5ad6c26e-6f01-4371-bf5f-45f8d7988913",
   "metadata": {},
   "outputs": [],
   "source": [
    "import turtle\n",
    "import random\n",
    "def is_in_screen(w, t):\n",
    "    left_bound = -w.window_width() / 2\n",
    "    right_bound = w.window_width() / 2\n",
    "    top_bound = w.window_height() / 2\n",
    "    bottom_bound = -w.window_height() / 2\n",
    "\n",
    "    turtle_x = t.xcor()\n",
    "    turtle_y = t.ycor()\n",
    "\n",
    "    stillIn = True\n",
    "    if turtle_x > right_bound or turtle_x < left_bound:\n",
    "        stillIn = False\n",
    "\n",
    "    if turtle_y > top_bound or turtle_y < bottom_bound:\n",
    "        stillIn = False\n",
    "\n",
    "    return stillIn\n",
    "\n",
    "\n",
    "wn = turtle.Screen()\n",
    "wn.bgcolor(\"black\")\n",
    "hillary = turtle.Turtle()\n",
    "hillary.color(\"pink\")\n",
    "hillary.shape(\"turtle\")\n",
    "\n",
    "while is_in_screen(wn, hillary):\n",
    "    random_num = random.randint(0, 1)\n",
    "\n",
    "    if random_num == 0:\n",
    "        hillary.left(90)\n",
    "    else:\n",
    "        hillary.right(90)\n",
    "\n",
    "    hillary.forward(25)\n",
    "wn.exitonclick()"
   ]
  }
 ],
 "metadata": {
  "kernelspec": {
   "display_name": "Python 3 (ipykernel)",
   "language": "python",
   "name": "python3"
  },
  "language_info": {
   "codemirror_mode": {
    "name": "ipython",
    "version": 3
   },
   "file_extension": ".py",
   "mimetype": "text/x-python",
   "name": "python",
   "nbconvert_exporter": "python",
   "pygments_lexer": "ipython3",
   "version": "3.11.13"
  }
 },
 "nbformat": 4,
 "nbformat_minor": 5
}
