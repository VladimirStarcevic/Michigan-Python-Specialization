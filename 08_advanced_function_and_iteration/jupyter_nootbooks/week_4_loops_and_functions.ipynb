{
 "cells": [
  {
   "cell_type": "markdown",
   "id": "1e3ccfab-6d13-49b2-9049-9116583f2683",
   "metadata": {},
   "source": [
    "## Module 14: Advanced Iteration - The `while` Loop\n",
    "\n",
    "Practicing the use of `while` loops for controlled iteration, where the number of repetitions is not known in advance or is managed by a manual counter."
   ]
  },
  {
   "cell_type": "code",
   "execution_count": 1,
   "id": "fc7ba58f-8631-4099-b68f-1901b0e6b6ef",
   "metadata": {},
   "outputs": [
    {
     "name": "stdout",
     "output_type": "stream",
     "text": [
      "[0, 2, 4, 6, 8, 10, 12, 14]\n"
     ]
    }
   ],
   "source": [
    "# Write a while loop that is initialized at 0 and stops at 15. If the counter is an even number,\n",
    "# append the counter to a list called eve_nums.\n",
    "\n",
    "from typing import List\n",
    "\n",
    "def get_even_list() -> List[int]:\n",
    "    even_list = []\n",
    "    counter = 0\n",
    "    while counter <= 15:\n",
    "        if counter % 2 == 0:\n",
    "            even_list.append(counter)\n",
    "\n",
    "        counter += 1\n",
    "    return even_list\n",
    "\n",
    "even_numbs = get_even_list()\n",
    "print(even_numbs)"
   ]
  },
  {
   "cell_type": "code",
   "execution_count": 2,
   "id": "cb1dc1a0-4adf-416c-bb19-2d31c0918a6e",
   "metadata": {},
   "outputs": [
    {
     "name": "stdout",
     "output_type": "stream",
     "text": [
      "Sum of all elements: 42\n"
     ]
    }
   ],
   "source": [
    "# Below, we’ve provided a for loop that sums all the elements of list1.\n",
    "# Write code that accomplishes the same task, but instead uses a while loop.\n",
    "# Assign the accumulator variable to the name accum.\n",
    "from typing import List\n",
    "\n",
    "def get_total(list_in: List[int | float]) -> int | float:\n",
    "    tot = 0\n",
    "    idx = 0\n",
    "    while idx < len(list_in):\n",
    "        current_num = list_in[idx]\n",
    "        tot += current_num\n",
    "        idx += 1\n",
    "\n",
    "    return tot\n",
    "\n",
    "\n",
    "list1 = [8, 3, 4, 5, 6, 7, 9]\n",
    "\n",
    "accum = get_total(list1)\n",
    "print(f\"Sum of all elements: {accum}\")"
   ]
  },
  {
   "cell_type": "code",
   "execution_count": null,
   "id": "5ad6c26e-6f01-4371-bf5f-45f8d7988913",
   "metadata": {},
   "outputs": [],
   "source": [
    "import turtle\n",
    "import random\n",
    "def is_in_screen(w, t):\n",
    "    left_bound = -w.window_width() / 2\n",
    "    right_bound = w.window_width() / 2\n",
    "    top_bound = w.window_height() / 2\n",
    "    bottom_bound = -w.window_height() / 2\n",
    "\n",
    "    turtle_x = t.xcor()\n",
    "    turtle_y = t.ycor()\n",
    "\n",
    "    stillIn = True\n",
    "    if turtle_x > right_bound or turtle_x < left_bound:\n",
    "        stillIn = False\n",
    "\n",
    "    if turtle_y > top_bound or turtle_y < bottom_bound:\n",
    "        stillIn = False\n",
    "\n",
    "    return stillIn\n",
    "\n",
    "\n",
    "wn = turtle.Screen()\n",
    "wn.bgcolor(\"black\")\n",
    "hillary = turtle.Turtle()\n",
    "hillary.color(\"pink\")\n",
    "hillary.shape(\"turtle\")\n",
    "\n",
    "while is_in_screen(wn, hillary):\n",
    "    random_num = random.randint(0, 1)\n",
    "\n",
    "    if random_num == 0:\n",
    "        hillary.left(90)\n",
    "    else:\n",
    "        hillary.right(90)\n",
    "\n",
    "    hillary.forward(25)\n",
    "wn.exitonclick()"
   ]
  },
  {
   "cell_type": "code",
   "execution_count": 1,
   "id": "b316dc53-f02b-4006-b6d1-de84228767b1",
   "metadata": {},
   "outputs": [
    {
     "name": "stdout",
     "output_type": "stream",
     "text": [
      "HelloHelloHelloHelloHelloHelloHelloHelloHelloHello\n"
     ]
    }
   ],
   "source": [
    "def multiply(str_in: str, mult_int = 10) -> str:\n",
    "    return  str_in * mult_int\n",
    "\n",
    "str1 = \"Hello\"\n",
    "output = multiply(str1)\n",
    "print(output)"
   ]
  },
  {
   "cell_type": "code",
   "execution_count": 1,
   "id": "3972cd3e-865e-49c5-beb9-90927fc904e7",
   "metadata": {},
   "outputs": [
    {
     "name": "stdout",
     "output_type": "stream",
     "text": [
      "[9, 7, 6, 5, 5, 3, 2, 1, -2]\n"
     ]
    }
   ],
   "source": [
    "# Sort the list, lst from largest to smallest.\n",
    "# Save this new list to the variable lst_sorted\n",
    "\n",
    "from typing import List\n",
    "\n",
    "def sort_inverse_list(list_in: List[int]) -> List[int]:\n",
    "    list_out = sorted(list_in, reverse = True)\n",
    "    return list_out\n",
    "\n",
    "lst = [3, 5, 1, 6, 7, 2, 9, -2, 5]\n",
    "lst_sorted = sort_inverse_list(lst)\n",
    "print(lst_sorted)"
   ]
  },
  {
   "cell_type": "code",
   "execution_count": 3,
   "id": "43072653-9778-4cce-9b24-29d46d5887a8",
   "metadata": {},
   "outputs": [
    {
     "name": "stdout",
     "output_type": "stream",
     "text": [
      "['dance', 'zebra', 'hi', 'how are you', 'apple', 'bye']\n"
     ]
    }
   ],
   "source": [
    "# You will be sorting the following list by each element’s second letter, a to z. \n",
    "# Create a function to use when sorting, called second_let. \n",
    "# It will take a string as input and return the second letter of that string. \n",
    "# Then sort the list, create a variable called sorted_by_second_let and assign the sorted list to it. Do not use lambda.\n",
    "\n",
    "def second_let(one_string: str) -> str:\n",
    "    return one_string[1]\n",
    "ex_lst = ['hi', 'how are you', 'bye', 'apple', 'zebra', 'dance']\n",
    "\n",
    "sorted_by_second_let = sorted(ex_lst, key=second_let)\n",
    "\n",
    "print(sorted_by_second_let)"
   ]
  },
  {
   "cell_type": "code",
   "execution_count": 5,
   "id": "4311ac74-1e76-44e0-8d2d-0385a4901d7f",
   "metadata": {},
   "outputs": [
    {
     "name": "stdout",
     "output_type": "stream",
     "text": [
      "['19', '14378', '8907', '16', '1005', '44', '33', '32', '871', '1450']\n"
     ]
    }
   ],
   "source": [
    "# Below, we have provided a list of strings called nums.\n",
    "# Write a function called last_char that takes a string as input, and returns only its last character.\n",
    "# Use this function to sort the list nums by the last digit of each number,\n",
    "# from highest to lowest, and save this as a new list called nums_sorted.\n",
    "\n",
    "nums = ['1450', '33', '871', '19', '14378', '32', '1005', '44', '8907', '16']\n",
    "\n",
    "def last_char(str_in: str) -> str:\n",
    "    return str_in[-1]\n",
    "\n",
    "nums_sorted = sorted(nums, key=last_char, reverse=True)\n",
    "print(nums_sorted)"
   ]
  },
  {
   "cell_type": "code",
   "execution_count": 6,
   "id": "974ba49e-3eef-4bb7-9fc1-b0644192bcca",
   "metadata": {},
   "outputs": [
    {
     "name": "stdout",
     "output_type": "stream",
     "text": [
      "['19', '14378', '8907', '16', '1005', '44', '33', '32', '871', '1450']\n"
     ]
    }
   ],
   "source": [
    "#  Once again, sort the list nums based on the last digit of each number from highest to lowest. \n",
    "#  However, now you should do so by writing a lambda function. \n",
    "#  Save the new list as nums_sorted_lambda.\n",
    "\n",
    "nums = ['1450', '33', '871', '19', '14378', '32', '1005', '44', '8907', '16']\n",
    "\n",
    "nums_sorted_lambda = sorted(nums, key=lambda s: s[-1], reverse=True)\n",
    "\n",
    "print(nums_sorted_lambda)"
   ]
  },
  {
   "cell_type": "code",
   "execution_count": 2,
   "id": "6babd0f3-f28c-4498-8746-e5272a88e2a3",
   "metadata": {},
   "outputs": [
    {
     "name": "stdout",
     "output_type": "stream",
     "text": [
      "\n",
      "--- Words Sorted Alphabetically ---\n",
      "but => 1\n",
      "chased => 1\n",
      "dog => 1\n",
      "forest => 1\n",
      "into => 1\n",
      "quick => 1\n",
      "rabbit => 2\n",
      "the => 4\n",
      "too => 1\n",
      "was => 1\n",
      "\n",
      "--- Words Sorted by Frequency (Highest to Lowest) ---\n",
      "the => 4\n",
      "rabbit => 2\n",
      "dog => 1\n",
      "chased => 1\n",
      "into => 1\n",
      "forest => 1\n",
      "but => 1\n",
      "was => 1\n",
      "too => 1\n",
      "quick => 1\n"
     ]
    }
   ],
   "source": [
    "from typing import Dict, List\n",
    "\n",
    "\n",
    "def get_word_frequency(str_in: str) -> Dict[str, int]:\n",
    "\n",
    "    dict_out = {}\n",
    "\n",
    "    lower_str = str_in.lower()\n",
    "\n",
    "    words = lower_str.split()\n",
    "    for word in words:\n",
    "        clean_word = word.strip('.,!?;:\"')\n",
    "        if clean_word:\n",
    "            dict_out[clean_word] = dict_out.get(clean_word, 0) + 1\n",
    "    return dict_out\n",
    "\n",
    "sentence = \"The dog chased the rabbit into the forest but the rabbit was too quick.\"\n",
    "\n",
    "word_counts = get_word_frequency(sentence)\n",
    "print(\"\\n--- Words Sorted Alphabetically ---\")\n",
    "\n",
    "sorted_keys = sorted(word_counts.keys())\n",
    "for key in sorted_keys:\n",
    "  print(f\"{key} => {word_counts[key]}\")\n",
    "\n",
    "print(\"\\n--- Words Sorted by Frequency (Highest to Lowest) ---\")\n",
    "\n",
    "sorted_keys_by_freq = sorted(word_counts, key=lambda word: word_counts[word], reverse=True)\n",
    "\n",
    "for word in sorted_keys_by_freq:\n",
    "    print(f\"{word} => {word_counts[word]}\")"
   ]
  },
  {
   "cell_type": "code",
   "execution_count": 2,
   "id": "4d77e522-4aca-4871-894a-11ecbd016fce",
   "metadata": {},
   "outputs": [
    {
     "ename": "AttributeError",
     "evalue": "'list' object has no attribute 'items'",
     "output_type": "error",
     "traceback": [
      "\u001b[31m---------------------------------------------------------------------------\u001b[39m",
      "\u001b[31mAttributeError\u001b[39m                            Traceback (most recent call last)",
      "\u001b[36mCell\u001b[39m\u001b[36m \u001b[39m\u001b[32mIn[2]\u001b[39m\u001b[32m, line 8\u001b[39m\n\u001b[32m      3\u001b[39m dictionary = {\u001b[33m\"\u001b[39m\u001b[33mFlowers\u001b[39m\u001b[33m\"\u001b[39m: \u001b[32m10\u001b[39m, \u001b[33m'\u001b[39m\u001b[33mTrees\u001b[39m\u001b[33m'\u001b[39m: \u001b[32m20\u001b[39m, \u001b[33m'\u001b[39m\u001b[33mChairs\u001b[39m\u001b[33m'\u001b[39m: \u001b[32m6\u001b[39m, \u001b[33m\"\u001b[39m\u001b[33mFirepit\u001b[39m\u001b[33m\"\u001b[39m: \u001b[32m1\u001b[39m, \u001b[33m'\u001b[39m\u001b[33mGrill\u001b[39m\u001b[33m'\u001b[39m: \u001b[32m2\u001b[39m, \u001b[33m'\u001b[39m\u001b[33mLights\u001b[39m\u001b[33m'\u001b[39m: \u001b[32m14\u001b[39m}\n\u001b[32m      6\u001b[39m sorted_keys = \u001b[38;5;28msorted\u001b[39m(dictionary.keys())\n\u001b[32m----> \u001b[39m\u001b[32m8\u001b[39m \u001b[38;5;28;01mfor\u001b[39;00m key, value \u001b[38;5;129;01min\u001b[39;00m \u001b[43msorted_keys\u001b[49m\u001b[43m.\u001b[49m\u001b[43mitems\u001b[49m():\n\u001b[32m      9\u001b[39m     \u001b[38;5;28mprint\u001b[39m(\u001b[33mf\u001b[39m\u001b[33m\"\u001b[39m\u001b[38;5;132;01m{\u001b[39;00mkey\u001b[38;5;132;01m}\u001b[39;00m\u001b[33m => \u001b[39m\u001b[38;5;132;01m{\u001b[39;00mvalue\u001b[38;5;132;01m}\u001b[39;00m\u001b[33m\"\u001b[39m)\n",
      "\u001b[31mAttributeError\u001b[39m: 'list' object has no attribute 'items'"
     ]
    }
   ],
   "source": [
    "# Sort the following dictionary based on the keys so that they are sorted a to z. Assign the resulting value to the variable sorted_keys\n",
    "\n",
    "dictionary = {\"Flowers\": 10, 'Trees': 20, 'Chairs': 6, \"Firepit\": 1, 'Grill': 2, 'Lights': 14}\n",
    "\n",
    "\n",
    "sorted_keys = sorted(dictionary.keys())\n",
    "\n",
    "for key, value in sorted_keys.items():\n",
    "    print(f\"{key} => {value}\")"
   ]
  },
  {
   "cell_type": "code",
   "execution_count": null,
   "id": "04f4295e-6c50-49c2-a3c6-4ca80c74adb2",
   "metadata": {},
   "outputs": [],
   "source": []
  }
 ],
 "metadata": {
  "kernelspec": {
   "display_name": "Python 3 (ipykernel)",
   "language": "python",
   "name": "python3"
  },
  "language_info": {
   "codemirror_mode": {
    "name": "ipython",
    "version": 3
   },
   "file_extension": ".py",
   "mimetype": "text/x-python",
   "name": "python",
   "nbconvert_exporter": "python",
   "pygments_lexer": "ipython3",
   "version": "3.11.13"
  }
 },
 "nbformat": 4,
 "nbformat_minor": 5
}
