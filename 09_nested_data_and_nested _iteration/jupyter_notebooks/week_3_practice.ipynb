{
 "cells": [
  {
   "cell_type": "markdown",
   "id": "aad225df-7c5a-4325-8269-db98a6a3b059",
   "metadata": {},
   "source": [
    "# Week 3 Practice: Nested Data and Iteration\n",
    "\n",
    "**Course:** Data Collection and Processing with Python  \n",
    "**Specialization:** University of Michigan - Python 3 Programming  \n",
    "\n",
    "## Objective\n",
    "\n",
    "This notebook contains practice exercises for the third week of the course. The primary focus is on understanding and manipulating complex, nested data structures (lists of lists, lists of dictionaries) and using nested iteration to process them. This is a foundational skill for working with data from APIs, typically returned in JSON format."
   ]
  },
  {
   "cell_type": "code",
   "execution_count": 4,
   "id": "8496309f-1456-40be-be3b-2dc08c03d65c",
   "metadata": {},
   "outputs": [
    {
     "name": "stdout",
     "output_type": "stream",
     "text": [
      "willow\n"
     ]
    }
   ],
   "source": [
    "# Using indexing, retrieve the string ‘willow’ from the list and assign that to the variable plant\n",
    "data = ['bagel', 'cream cheese', 'breakfast', 'grits', 'eggs', 'bacon', [34, 9, 73, []], [['willow', 'birch', 'elm'], 'apple', 'peach', 'cherry']]\n",
    "plant = data[7][0][0]\n",
    "print(plant)"
   ]
  },
  {
   "cell_type": "code",
   "execution_count": 1,
   "id": "6d149626-b3d4-4fb0-8c98-2c46b23c5270",
   "metadata": {},
   "outputs": [
    {
     "name": "stdout",
     "output_type": "stream",
     "text": [
      "<class 'dict'>\n",
      "{'eye': 'blue', 'hair': 'brown'}\n"
     ]
    }
   ],
   "source": [
    "# Extract the value associated with the key color and assign it to the variable color. Do not hard code this.\n",
    "from typing import Dict, List, Any\n",
    "\n",
    "\n",
    "def find_key_universal(data: Dict | List, target_key: str) -> Any:\n",
    "    if isinstance(data, dict):\n",
    "        for key, value in data.items():\n",
    "            if key == target_key:\n",
    "                return value\n",
    "            result = find_key_universal(value, target_key)\n",
    "            if result is not None:\n",
    "                return result\n",
    "    elif isinstance(data, list):\n",
    "        for item in data:\n",
    "            result = find_key_universal(item, target_key)\n",
    "            if result is not None:\n",
    "                return result\n",
    "    return None\n",
    "\n",
    "info = {'personal_data':\n",
    "         {'name': 'Lauren',\n",
    "          'age': 20,\n",
    "          'major': 'Information Science',\n",
    "          'physical_features':\n",
    "             {'color': {'eye': 'blue',\n",
    "                        'hair': 'brown'},\n",
    "              'height': \"5'8\"}\n",
    "         },\n",
    "       'other':\n",
    "         {'favorite_colors': ['purple', 'green', 'blue'],\n",
    "          'interested_in': ['social media', 'intellectual property', 'copyright', 'music', 'books']\n",
    "         }\n",
    "      }\n",
    "\n",
    "\n",
    "color = find_key_universal(info, 'color')\n",
    "print(type(color))\n",
    "print(color)"
   ]
  },
  {
   "cell_type": "code",
   "execution_count": null,
   "id": "802cf6b5-1901-46c4-b9e4-2ce2156185c1",
   "metadata": {},
   "outputs": [],
   "source": []
  }
 ],
 "metadata": {
  "kernelspec": {
   "display_name": "Python 3 (ipykernel)",
   "language": "python",
   "name": "python3"
  },
  "language_info": {
   "codemirror_mode": {
    "name": "ipython",
    "version": 3
   },
   "file_extension": ".py",
   "mimetype": "text/x-python",
   "name": "python",
   "nbconvert_exporter": "python",
   "pygments_lexer": "ipython3",
   "version": "3.11.13"
  }
 },
 "nbformat": 4,
 "nbformat_minor": 5
}
