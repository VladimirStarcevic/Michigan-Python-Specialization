{
 "cells": [
  {
   "cell_type": "markdown",
   "id": "aad225df-7c5a-4325-8269-db98a6a3b059",
   "metadata": {},
   "source": [
    "# Week 3 Practice: Nested Data and Iteration\n",
    "\n",
    "**Course:** Data Collection and Processing with Python  \n",
    "**Specialization:** University of Michigan - Python 3 Programming  \n",
    "\n",
    "## Objective\n",
    "\n",
    "This notebook contains practice exercises for the third week of the course. The primary focus is on understanding and manipulating complex, nested data structures (lists of lists, lists of dictionaries) and using nested iteration to process them. This is a foundational skill for working with data from APIs, typically returned in JSON format."
   ]
  },
  {
   "cell_type": "code",
   "execution_count": 4,
   "id": "8496309f-1456-40be-be3b-2dc08c03d65c",
   "metadata": {},
   "outputs": [
    {
     "name": "stdout",
     "output_type": "stream",
     "text": [
      "willow\n"
     ]
    }
   ],
   "source": [
    "# Using indexing, retrieve the string ‘willow’ from the list and assign that to the variable plant\n",
    "data = ['bagel', 'cream cheese', 'breakfast', 'grits', 'eggs', 'bacon', [34, 9, 73, []], [['willow', 'birch', 'elm'], 'apple', 'peach', 'cherry']]\n",
    "plant = data[7][0][0]\n",
    "print(plant)"
   ]
  },
  {
   "cell_type": "code",
   "execution_count": 1,
   "id": "6d149626-b3d4-4fb0-8c98-2c46b23c5270",
   "metadata": {},
   "outputs": [
    {
     "name": "stdout",
     "output_type": "stream",
     "text": [
      "<class 'dict'>\n",
      "{'eye': 'blue', 'hair': 'brown'}\n"
     ]
    }
   ],
   "source": [
    "# Extract the value associated with the key color and assign it to the variable color. Do not hard code this.\n",
    "from typing import Dict, List, Any\n",
    "\n",
    "\n",
    "def find_key_universal(data: Dict | List, target_key: str) -> Any:\n",
    "    if isinstance(data, dict):\n",
    "        for key, value in data.items():\n",
    "            if key == target_key:\n",
    "                return value\n",
    "            result = find_key_universal(value, target_key)\n",
    "            if result is not None:\n",
    "                return result\n",
    "    elif isinstance(data, list):\n",
    "        for item in data:\n",
    "            result = find_key_universal(item, target_key)\n",
    "            if result is not None:\n",
    "                return result\n",
    "    return None\n",
    "\n",
    "info = {'personal_data':\n",
    "         {'name': 'Lauren',\n",
    "          'age': 20,\n",
    "          'major': 'Information Science',\n",
    "          'physical_features':\n",
    "             {'color': {'eye': 'blue',\n",
    "                        'hair': 'brown'},\n",
    "              'height': \"5'8\"}\n",
    "         },\n",
    "       'other':\n",
    "         {'favorite_colors': ['purple', 'green', 'blue'],\n",
    "          'interested_in': ['social media', 'intellectual property', 'copyright', 'music', 'books']\n",
    "         }\n",
    "      }\n",
    "\n",
    "\n",
    "color = find_key_universal(info, 'color')\n",
    "print(type(color))\n",
    "print(color)"
   ]
  },
  {
   "cell_type": "code",
   "execution_count": 1,
   "id": "802cf6b5-1901-46c4-b9e4-2ce2156185c1",
   "metadata": {},
   "outputs": [
    {
     "name": "stdout",
     "output_type": "stream",
     "text": [
      "['Turner', 'Damon', 'Wiig', 'Phelps', 'Obama']\n"
     ]
    }
   ],
   "source": [
    "# Below, we have provided a list of lists that contain information about people.\n",
    "# Write code to create a new list that contains every person’s last name, and save that list as last_names\n",
    "from typing import List, Any\n",
    "\n",
    "def get_lastname_list(list_in: List) -> Any:\n",
    "    list_out = []\n",
    "    for item in list_in:\n",
    "            last_name = item[1]\n",
    "            list_out.append(last_name)\n",
    "    return list_out\n",
    "\n",
    "info = [['Tina', 'Turner', 1939, 'singer'], ['Matt', 'Damon', 1970, 'actor'], ['Kristen', 'Wiig', 1973, 'comedian'], ['Michael', 'Phelps', 1985, 'swimmer'], ['Barack', 'Obama', 1961, 'president']]\n",
    "last_names = get_lastname_list(info)\n",
    "\n",
    "print(last_names)"
   ]
  },
  {
   "cell_type": "code",
   "execution_count": 2,
   "id": "fd94708e-0be0-4166-b0d8-d2c45c53f8ad",
   "metadata": {},
   "outputs": [
    {
     "name": "stdout",
     "output_type": "stream",
     "text": [
      "['bananas', 'blueberries', 'cucumbers', 'green beans', 'root beer', 'cranberry juice']\n"
     ]
    }
   ],
   "source": [
    "# Below, we have provided a list of lists named L.\n",
    "# Use nested iteration to save every string containing “b” into a new list named b_strings\n",
    "L = [['apples', 'bananas', 'oranges', 'blueberries', 'lemons'], ['carrots', 'peas', 'cucumbers', 'green beans'], ['root beer', 'smoothies', 'cranberry juice']]\n",
    "b_strings = []\n",
    "for items in L:\n",
    "    for product in items:\n",
    "        if 'b' in product:\n",
    "            b_strings.append(product)\n",
    "print(b_strings)"
   ]
  },
  {
   "cell_type": "code",
   "execution_count": 1,
   "id": "9241f09a-075a-4587-bcee-9361e0170fab",
   "metadata": {},
   "outputs": [
    {
     "name": "stdout",
     "output_type": "stream",
     "text": [
      "[['Player A', {'score': 10, 'fouls': 2}], ['Player B', {'score': 15, 'fouls': 1}]]\n",
      "[['Player C', {'score': 7, 'fouls': 4}], ['Player D', {'score': 12, 'fouls': 0}]]\n"
     ]
    }
   ],
   "source": [
    "from typing import List, Any\n",
    "\n",
    "def manual_deep_copy(list_3d: List) -> List[Any]:\n",
    "    level1_copy = []\n",
    "    for l1 in list_3d:\n",
    "        level2_copy = []  # Praviš novi prazan kontejner za Tim\n",
    "        for l2 in l1:\n",
    "            level3_copy = []  # Praviš novi prazan kontejner za Igrača\n",
    "\n",
    "            # Sada treba da napuniš level3_copy.\n",
    "            # l2 je npr. ['Player A', {'score': 10, 'fouls': 2}]\n",
    "            # Moramo da prođemo kroz elemente l2 i kopiramo ih.\n",
    "            for l3_element in l2:\n",
    "                # E sad, ovde moramo biti pametni. Šta ako je element rečnik?\n",
    "                # Moramo i njega kopirati!\n",
    "                if isinstance(l3_element, dict):\n",
    "                    level3_copy.append(l3_element.copy())  # .copy() pravi plitku kopiju rečnika\n",
    "                elif isinstance(l3_element, list):\n",
    "                    level3_copy.append(l3_element[:])  # [:] pravi plitku kopiju liste\n",
    "                else:\n",
    "                    level3_copy.append(l3_element)  # Za proste tipove (str, int) samo dodaj\n",
    "\n",
    "            # Sada kada si napunio level3_copy, dodaj GA u level2_copy\n",
    "            level2_copy.append(level3_copy)\n",
    "\n",
    "        # Kada se unutrašnja petlja završi, napunio si level2_copy.\n",
    "        # Dodaj GA u level1_copy\n",
    "        level1_copy.append(level2_copy)\n",
    "\n",
    "    return level1_copy\n",
    "\n",
    "\n",
    "\n",
    "\n",
    "original_data = [\n",
    "        # Team 1\n",
    "        [\n",
    "            ['Player A', {'score': 10, 'fouls': 2}],\n",
    "            ['Player B', {'score': 15, 'fouls': 1}]\n",
    "        ],\n",
    "        # Team 2\n",
    "        [\n",
    "            ['Player C', {'score': 7, 'fouls': 4}],\n",
    "            ['Player D', {'score': 12, 'fouls': 0}]\n",
    "        ]\n",
    "    ]\n",
    "\n",
    "for item in original_data:\n",
    "    print(item)"
   ]
  },
  {
   "cell_type": "code",
   "execution_count": null,
   "id": "f513abb6-aeed-4510-bcee-804ede620907",
   "metadata": {},
   "outputs": [],
   "source": []
  }
 ],
 "metadata": {
  "kernelspec": {
   "display_name": "Python 3 (ipykernel)",
   "language": "python",
   "name": "python3"
  },
  "language_info": {
   "codemirror_mode": {
    "name": "ipython",
    "version": 3
   },
   "file_extension": ".py",
   "mimetype": "text/x-python",
   "name": "python",
   "nbconvert_exporter": "python",
   "pygments_lexer": "ipython3",
   "version": "3.11.13"
  }
 },
 "nbformat": 4,
 "nbformat_minor": 5
}
