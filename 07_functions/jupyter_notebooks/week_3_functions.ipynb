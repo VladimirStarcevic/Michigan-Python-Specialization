{
 "cells": [
  {
   "cell_type": "markdown",
   "id": "37134d54-58ac-4155-ab49-66cb779cba16",
   "metadata": {},
   "source": [
    "# Module: Functions and Advanced Tuples\n",
    "\n",
    "This section covers one of the most important concepts in programming: **functions**. We will learn how to define our own functions, pass parameters, and return values.\n",
    "\n",
    "We will also explore advanced concepts related to functions, including:\n",
    "*   Variable scope (local vs. global)\n",
    "*   How Python handles mutable and immutable arguments\n",
    "*   Tuple packing and unpacking for returning multiple values\n",
    "*   Using `enumerate` for cleaner loops"
   ]
  },
  {
   "cell_type": "code",
   "execution_count": 1,
   "id": "afc0bef3-d839-4e80-9932-9ac74c2a7ce4",
   "metadata": {},
   "outputs": [
    {
     "name": "stdout",
     "output_type": "stream",
     "text": [
      "Result  is : 150\n"
     ]
    }
   ],
   "source": [
    "def addit(num: int | float) -> int | float:\n",
    "    return num + 5\n",
    "\n",
    "def mult(num: int | float) -> int | float:\n",
    "    result = addit(num) * num\n",
    "    return result\n",
    "\n",
    "output = mult(10)\n",
    "print(f\"Result  is : {output}\")"
   ]
  },
  {
   "cell_type": "code",
   "execution_count": 1,
   "id": "f51b2636-1c62-47ff-abb5-15f97cf0a3a9",
   "metadata": {},
   "outputs": [
    {
     "name": "stdout",
     "output_type": "stream",
     "text": [
      "['Rattata', 'Machop', 'Seel', 'Volbeat', 'Solrock'] [19, 66, 86, 86, 126]\n"
     ]
    }
   ],
   "source": [
    "from typing import Dict, List, Tuple\n",
    "\n",
    "def get_lists_from_dict(dict_in: Dict[str, int]) -> Tuple[List[str], List[int]]:\n",
    "\n",
    "    key_list = []\n",
    "    value_list = []\n",
    "    for key, value in dict_in.items():\n",
    "        key_list.append(key)\n",
    "        value_list.append(value)\n",
    "    return key_list, value_list\n",
    "\n",
    "pokemon = {'Rattata': 19, 'Machop': 66, 'Seel': 86, 'Volbeat': 86, 'Solrock': 126}\n",
    "\n",
    "p_names, p_number = get_lists_from_dict(pokemon)\n",
    "print(f\"{p_names} {p_number}\")"
   ]
  }
 ],
 "metadata": {
  "kernelspec": {
   "display_name": "Python 3 (ipykernel)",
   "language": "python",
   "name": "python3"
  },
  "language_info": {
   "codemirror_mode": {
    "name": "ipython",
    "version": 3
   },
   "file_extension": ".py",
   "mimetype": "text/x-python",
   "name": "python",
   "nbconvert_exporter": "python",
   "pygments_lexer": "ipython3",
   "version": "3.11.13"
  }
 },
 "nbformat": 4,
 "nbformat_minor": 5
}
