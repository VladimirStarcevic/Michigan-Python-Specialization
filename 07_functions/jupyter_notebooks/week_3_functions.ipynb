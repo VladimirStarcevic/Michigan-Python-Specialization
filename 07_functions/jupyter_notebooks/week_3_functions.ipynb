{
 "cells": [
  {
   "cell_type": "markdown",
   "id": "37134d54-58ac-4155-ab49-66cb779cba16",
   "metadata": {},
   "source": [
    "# Module: Functions and Advanced Tuples\n",
    "\n",
    "This section covers one of the most important concepts in programming: **functions**. \n",
    "We will learn how to define our own functions, pass parameters, and return values.\n",
    "\n",
    "We will also explore advanced concepts related to functions, including:\n",
    "*   Variable scope (local vs. global)\n",
    "*   How Python handles mutable and immutable arguments\n",
    "*   Tuple packing and unpacking for returning multiple values\n",
    "*   Using `enumerate` for cleaner loops"
   ]
  },
  {
   "cell_type": "code",
   "execution_count": 1,
   "id": "afc0bef3-d839-4e80-9932-9ac74c2a7ce4",
   "metadata": {},
   "outputs": [
    {
     "name": "stdout",
     "output_type": "stream",
     "text": [
      "Result  is : 150\n"
     ]
    }
   ],
   "source": [
    "def addit(num: int | float) -> int | float:\n",
    "    return num + 5\n",
    "\n",
    "def mult(num: int | float) -> int | float:\n",
    "    result = addit(num) * num\n",
    "    return result\n",
    "\n",
    "output = mult(10)\n",
    "print(f\"Result  is : {output}\")"
   ]
  },
  {
   "cell_type": "code",
   "execution_count": 2,
   "id": "f51b2636-1c62-47ff-abb5-15f97cf0a3a9",
   "metadata": {},
   "outputs": [
    {
     "name": "stdout",
     "output_type": "stream",
     "text": [
      "['Rattata', 'Machop', 'Seel', 'Volbeat', 'Solrock'] [19, 66, 86, 86, 126]\n"
     ]
    }
   ],
   "source": [
    "from typing import Dict, List, Tuple\n",
    "\n",
    "def get_lists_from_dict(dict_in: Dict[str, int]) -> Tuple[List[str], List[int]]:\n",
    "\n",
    "    key_list = []\n",
    "    value_list = []\n",
    "    for key, value in dict_in.items():\n",
    "        key_list.append(key)\n",
    "        value_list.append(value)\n",
    "    return key_list, value_list\n",
    "\n",
    "pokemon = {'Rattata': 19, 'Machop': 66, 'Seel': 86, 'Volbeat': 86, 'Solrock': 126}\n",
    "\n",
    "p_names, p_number = get_lists_from_dict(pokemon)\n",
    "print(f\"{p_names} {p_number}\")"
   ]
  },
  {
   "cell_type": "code",
   "execution_count": 3,
   "id": "469657e3-2ab6-4543-b218-80917539add7",
   "metadata": {},
   "outputs": [
    {
     "name": "stdout",
     "output_type": "stream",
     "text": [
      "['shot put', 'long jump', '100 meters', '400 meters', '100 meter hurdles', 'triple jump', 'steeplechase', '1500 meters', '5K', '10K', 'marathon', '200 meters', '400 meter hurdles', 'high jump']\n"
     ]
    }
   ],
   "source": [
    "# The .items() method produces a sequence of key-value pair tuples.\n",
    "# With this in mind, write code to create a list of keys from the dictionary track_medal_counts\n",
    "# and assign the list to the variable name track_events.\n",
    "# Do NOT use the .keys() method.\n",
    "from typing import Dict, List, Tuple\n",
    "\n",
    "def get_tuple_list(dict_in: Dict[str, int]) -> Tuple[List[str], List[int]]:\n",
    "\n",
    "    events = []\n",
    "    medals_count = []\n",
    "    for key, value in dict_in.items():\n",
    "        events.append(key)\n",
    "        medals_count.append(value)\n",
    "    return  events, medals_count\n",
    "\n",
    "track_medal_counts = {'shot put': 1, 'long jump': 3, '100 meters': 2, '400 meters': 2, '100 meter hurdles': 3, 'triple jump': 3, 'steeplechase': 2, '1500 meters': 1, '5K': 0, '10K': 0, 'marathon': 0, '200 meters': 0, '400 meter hurdles': 0, 'high jump': 1}\n",
    "\n",
    "track_events, medals = get_tuple_list(track_medal_counts)\n",
    "print(track_events)"
   ]
  },
  {
   "cell_type": "code",
   "execution_count": null,
   "id": "91eade6c-45f3-4604-b4c6-95d740a41273",
   "metadata": {},
   "outputs": [],
   "source": []
  }
 ],
 "metadata": {
  "kernelspec": {
   "display_name": "Python 3 (ipykernel)",
   "language": "python",
   "name": "python3"
  },
  "language_info": {
   "codemirror_mode": {
    "name": "ipython",
    "version": 3
   },
   "file_extension": ".py",
   "mimetype": "text/x-python",
   "name": "python",
   "nbconvert_exporter": "python",
   "pygments_lexer": "ipython3",
   "version": "3.11.13"
  }
 },
 "nbformat": 4,
 "nbformat_minor": 5
}
