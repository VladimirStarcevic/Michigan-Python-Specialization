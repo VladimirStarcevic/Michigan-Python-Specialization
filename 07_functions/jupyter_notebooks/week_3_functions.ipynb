{
 "cells": [
  {
   "cell_type": "code",
   "execution_count": 1,
   "id": "afc0bef3-d839-4e80-9932-9ac74c2a7ce4",
   "metadata": {},
   "outputs": [
    {
     "name": "stdout",
     "output_type": "stream",
     "text": [
      "Result  is : 150\n"
     ]
    }
   ],
   "source": [
    "def addit(num: int | float) -> int | float:\n",
    "    return num + 5\n",
    "\n",
    "def mult(num: int | float) -> int | float:\n",
    "    result = addit(num) * num\n",
    "    return result\n",
    "\n",
    "output = mult(10)\n",
    "print(f\"Result  is : {output}\")"
   ]
  },
  {
   "cell_type": "code",
   "execution_count": null,
   "id": "f51b2636-1c62-47ff-abb5-15f97cf0a3a9",
   "metadata": {},
   "outputs": [],
   "source": []
  }
 ],
 "metadata": {
  "kernelspec": {
   "display_name": "Python 3 (ipykernel)",
   "language": "python",
   "name": "python3"
  },
  "language_info": {
   "codemirror_mode": {
    "name": "ipython",
    "version": 3
   },
   "file_extension": ".py",
   "mimetype": "text/x-python",
   "name": "python",
   "nbconvert_exporter": "python",
   "pygments_lexer": "ipython3",
   "version": "3.11.13"
  }
 },
 "nbformat": 4,
 "nbformat_minor": 5
}
